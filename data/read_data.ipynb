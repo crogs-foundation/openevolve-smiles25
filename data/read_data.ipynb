{
 "cells": [
  {
   "cell_type": "code",
   "execution_count": 2,
   "id": "2a86d2a8",
   "metadata": {},
   "outputs": [],
   "source": [
    "from IPython.display import display\n",
    "\n",
    "import pickle"
   ]
  },
  {
   "cell_type": "markdown",
   "id": "e2820509",
   "metadata": {},
   "source": [
    "### Read data"
   ]
  },
  {
   "cell_type": "code",
   "execution_count": null,
   "id": "48b23d4f",
   "metadata": {},
   "outputs": [],
   "source": [
    "data_path = \"data.pkl\"\n",
    "\n",
    "with open(data_path, \"rb\") as f:\n",
    "    dataset = pickle.load(f)"
   ]
  },
  {
   "cell_type": "markdown",
   "id": "d391c180",
   "metadata": {},
   "source": [
    "Check the dataset:\n",
    "\n",
    "'description' is for text descripton of an object\n",
    "\n",
    "'code' is a cadquery code"
   ]
  },
  {
   "cell_type": "code",
   "execution_count": 4,
   "id": "845799a1",
   "metadata": {},
   "outputs": [
    {
     "data": {
      "text/plain": [
       "{'full_description': 'Start by creating a new coordinate system with Euler angles set to 0, 0, and -90 degrees, and a translation vector of 0, 0.4218, and 0. On the first face, draw a closed loop consisting of 4 lines. Begin the first line at the origin (0, 0) and extend it to (0.75, 0). Continue with the second line from (0.75, 0) to (0.75, 0.75), then the third line from (0.75, 0.75) to (0, 0.75), and finally, the fourth line back to the origin. Scale the entire 2-dimensional sketch by a factor of 0.75. Next, transform the scaled sketch into 3 dimensions by rotating it with the same Euler angles used for the coordinate system and translating it with the same vector. Extrude the transformed sketch 0.4218 units along the normal direction to create a solid body. Ensure that the extrusion does not occur in the opposite direction of the normal. The final dimensions of the first part will be approximately 0.75 units in length, 0.75 units in width, and 0.4218 units in height, forming the base of a rounded cube with a slightly larger top surface.',\n",
       " 'short_description': 'Create a box with dimensions 0.75 units in length (X-axis), 0.75 units in width (Y-axis), and 0.4218 units in height (Z-axis).',\n",
       " 'code': \"import cadquery as cq\\nw0=cq.Workplane('ZX',origin=(-100,56,-100))\\nr=w0.sketch().face(w0.sketch().segment((0,0),(0,200)).segment((0,200),(200,200)).segment((200,200),(200,0)).segment((200,0),(0,0)).assemble()).finalize().extrude(-112)\"}"
      ]
     },
     "execution_count": 4,
     "metadata": {},
     "output_type": "execute_result"
    }
   ],
   "source": [
    "dataset[0]"
   ]
  },
  {
   "cell_type": "code",
   "execution_count": 5,
   "id": "b8a8d26c",
   "metadata": {},
   "outputs": [
    {
     "data": {
      "text/plain": [
       "[{'full_description': 'Start by creating a new coordinate system with Euler angles set to 0, 0, and -90 degrees, and a translation vector of 0, 0.4218, and 0. On the first face, draw a closed loop consisting of 4 lines. Begin the first line at the origin (0, 0) and extend it to (0.75, 0). Continue with the second line from (0.75, 0) to (0.75, 0.75), then the third line from (0.75, 0.75) to (0, 0.75), and finally, the fourth line back to the origin. Scale the entire 2-dimensional sketch by a factor of 0.75. Next, transform the scaled sketch into 3 dimensions by rotating it with the same Euler angles used for the coordinate system and translating it with the same vector. Extrude the transformed sketch 0.4218 units along the normal direction to create a solid body. Ensure that the extrusion does not occur in the opposite direction of the normal. The final dimensions of the first part will be approximately 0.75 units in length, 0.75 units in width, and 0.4218 units in height, forming the base of a rounded cube with a slightly larger top surface.',\n",
       "  'short_description': 'Create a box with dimensions 0.75 units in length (X-axis), 0.75 units in width (Y-axis), and 0.4218 units in height (Z-axis).',\n",
       "  'code': \"import cadquery as cq\\nw0=cq.Workplane('ZX',origin=(-100,56,-100))\\nr=w0.sketch().face(w0.sketch().segment((0,0),(0,200)).segment((0,200),(200,200)).segment((200,200),(200,0)).segment((200,0),(0,0)).assemble()).finalize().extrude(-112)\"},\n",
       " {'full_description': 'In the first part, construct a rectangular box by creating a new coordinate system with Euler angles set to 0 and a translation vector also set to 0. Draw the first 2-dimensional sketch on the first face, which consists of 2 loops. In the first loop, draw a line from the origin (0, 0) to (0.75, 0), then from (0.75, 0) to (0.75, 0.3088), followed by (0.75, 0.3088) to (0, 0.3088), and finally back to the origin. In the second loop, draw a line from (0.0221, 0.0221) to (0.6397, 0.0221), then from (0.6397, 0.0221) to (0.6397, 0.2868), followed by (0.6397, 0.2868) to (0.0221, 0.2868), and finally back to (0.0221, 0.0221). Apply a scale factor of 0.75 to the entire sketch. Transform the scaled sketch into 3 dimensions by rotating it with Euler angles set to 0 and translating it with a vector also set to 0. Extrude the sketch 0.2404 units along the normal direction to create a new solid body. The resulting rectangular box has a length of 0.75 units, a width of 0.3088 units, and a height of 0.2404 units.\\n\\nIn the second part, construct a rectangular plate by creating a new coordinate system with Euler angles set to 0 and a translation vector set to (0.0221, 0.0221, 0). Draw the second 2-dimensional sketch on the first face, which consists of 1 loop. Draw a line from the origin (0, 0) to (0.6176, 0), then from (0.6176, 0) to (0.6176, 0.2647), followed by (0.6176, 0.2647) to (0, 0.2647), and finally back to the origin. Apply a scale factor of 0.6176 to the entire sketch. Transform the scaled sketch into 3 dimensions by rotating it with Euler angles set to 0 and translating it with a vector set to (0.0221, 0.0221, 0). Extrude the sketch 0.011 units along the normal direction to add material to the existing body. The resulting rectangular plate has a length of 0.6176 units, a width of 0.2647 units, and a height of 0.011 units.',\n",
       "  'short_description': 'Create a decagonal prism with dimensions 0.75 units in length, 0.7133 units in width, and 0.6666 units in height.',\n",
       "  'code': \"import cadquery as cq\\nw0=cq.Workplane('XY',origin=(-100,-41,-32))\\nw1=cq.Workplane('XY',origin=(-94,-35,-32))\\nr=w0.sketch().face(w0.sketch().segment((0,0),(200,0)).segment((200,0),(200,82)).segment((200,82),(0,82)).segment((0,82),(0,0)).assemble()).face(w0.sketch().segment((6,6),(171,6)).segment((171,6),(171,76)).segment((171,76),(6,76)).segment((6,76),(6,6)).assemble(),mode='s').finalize().extrude(64).union(w1.sketch().face(w1.sketch().segment((0,0),(165,0)).segment((165,0),(165,71)).segment((165,71),(0,71)).segment((0,71),(0,0)).assemble()).finalize().extrude(3))\"}]"
      ]
     },
     "execution_count": 5,
     "metadata": {},
     "output_type": "execute_result"
    }
   ],
   "source": [
    "dataset"
   ]
  },
  {
   "cell_type": "markdown",
   "id": "4fcb4830",
   "metadata": {},
   "source": [
    "Additional function for executing the code in a string format and create a cadquery skecth"
   ]
  },
  {
   "cell_type": "code",
   "execution_count": 6,
   "id": "4ed85399",
   "metadata": {},
   "outputs": [],
   "source": [
    "import cadquery as cq\n",
    "from io import StringIO\n",
    "import contextlib\n",
    "\n",
    "\n",
    "def execute_cadquery_code(code_string):\n",
    "    safe_globals = {\"cq\": cq}\n",
    "\n",
    "    output = StringIO()\n",
    "    try:\n",
    "        with contextlib.redirect_stdout(output):\n",
    "            exec(code_string, safe_globals)\n",
    "\n",
    "            if \"r\" in safe_globals and isinstance(safe_globals[\"r\"], cq.Workplane):\n",
    "                return safe_globals[\"r\"], output.getvalue()\n",
    "\n",
    "        return None, \"No valid CadQuery object named 'r' found\"\n",
    "    except Exception as e:\n",
    "        return None, f\"Error: {str(e)}\""
   ]
  },
  {
   "cell_type": "markdown",
   "id": "ed08e6a9",
   "metadata": {},
   "source": [
    "### Display first 5 figures"
   ]
  },
  {
   "cell_type": "code",
   "execution_count": 7,
   "id": "544205c4",
   "metadata": {},
   "outputs": [
    {
     "data": {
      "application/javascript": "\n\nfunction render(data, parent_element, ratio){\n    \n    // Initial setup\n    const renderWindow = vtk.Rendering.Core.vtkRenderWindow.newInstance();\n    const renderer = vtk.Rendering.Core.vtkRenderer.newInstance({ background: [1, 1, 1 ] });\n    renderWindow.addRenderer(renderer);\n        \n    // iterate over all children children\n    for (var el of data){ \n        var trans = el.position;\n        var rot = el.orientation;\n        var rgba = el.color;\n        var shape = el.shape;\n        \n        // load the inline data\n        var reader = vtk.IO.XML.vtkXMLPolyDataReader.newInstance();\n        const textEncoder = new TextEncoder();\n        reader.parseAsArrayBuffer(textEncoder.encode(shape));\n\n        // setup actor,mapper and add\n        const mapper = vtk.Rendering.Core.vtkMapper.newInstance();\n        mapper.setInputConnection(reader.getOutputPort());\n        mapper.setResolveCoincidentTopologyToPolygonOffset();\n        mapper.setResolveCoincidentTopologyPolygonOffsetParameters(0.9,20);\n\n        const actor = vtk.Rendering.Core.vtkActor.newInstance();\n        actor.setMapper(mapper);\n\n        // set color and position\n        actor.getProperty().setColor(rgba.slice(0,3));\n        actor.getProperty().setOpacity(rgba[3]);\n        \n        actor.rotateZ(rot[2]*180/Math.PI);\n        actor.rotateY(rot[1]*180/Math.PI);\n        actor.rotateX(rot[0]*180/Math.PI);\n        \n        actor.setPosition(trans);\n\n        renderer.addActor(actor);\n\n    };\n    \n    renderer.resetCamera();\n    \n    const openglRenderWindow = vtk.Rendering.OpenGL.vtkRenderWindow.newInstance();\n    renderWindow.addView(openglRenderWindow);\n\n    // Add output to the \"parent element\"\n    var container;\n    var dims;\n    \n    if(typeof(parent_element.appendChild) !== \"undefined\"){\n        container = document.createElement(\"div\");\n        parent_element.appendChild(container);\n        dims = parent_element.getBoundingClientRect();\n    }else{\n        container = parent_element.append(\"<div/>\").children(\"div:last-child\").get(0);\n        dims = parent_element.get(0).getBoundingClientRect();\n    };\n\n    openglRenderWindow.setContainer(container);\n    \n    // handle size\n    if (ratio){\n        openglRenderWindow.setSize(dims.width, dims.width*ratio);\n    }else{\n        openglRenderWindow.setSize(dims.width, dims.height);\n    };\n    \n    // Interaction setup\n    const interact_style = vtk.Interaction.Style.vtkInteractorStyleManipulator.newInstance();\n\n    const manips = {\n        rot: vtk.Interaction.Manipulators.vtkMouseCameraTrackballRotateManipulator.newInstance(),\n        pan: vtk.Interaction.Manipulators.vtkMouseCameraTrackballPanManipulator.newInstance(),\n        zoom1: vtk.Interaction.Manipulators.vtkMouseCameraTrackballZoomManipulator.newInstance(),\n        zoom2: vtk.Interaction.Manipulators.vtkMouseCameraTrackballZoomManipulator.newInstance(),\n        roll: vtk.Interaction.Manipulators.vtkMouseCameraTrackballRollManipulator.newInstance(),\n    };\n\n    manips.zoom1.setControl(true);\n    manips.zoom2.setScrollEnabled(true);\n    manips.roll.setShift(true);\n    manips.pan.setButton(2);\n\n    for (var k in manips){\n        interact_style.addMouseManipulator(manips[k]);\n    };\n\n    const interactor = vtk.Rendering.Core.vtkRenderWindowInteractor.newInstance();\n    interactor.setView(openglRenderWindow);\n    interactor.initialize();\n    interactor.bindEvents(container);\n    interactor.setInteractorStyle(interact_style);\n\n    // Orientation marker\n\n    const axes = vtk.Rendering.Core.vtkAnnotatedCubeActor.newInstance();\n    axes.setXPlusFaceProperty({text: '+X'});\n    axes.setXMinusFaceProperty({text: '-X'});\n    axes.setYPlusFaceProperty({text: '+Y'});\n    axes.setYMinusFaceProperty({text: '-Y'});\n    axes.setZPlusFaceProperty({text: '+Z'});\n    axes.setZMinusFaceProperty({text: '-Z'});\n\n    const orientationWidget = vtk.Interaction.Widgets.vtkOrientationMarkerWidget.newInstance({\n        actor: axes,\n        interactor: interactor });\n    orientationWidget.setEnabled(true);\n    orientationWidget.setViewportCorner(vtk.Interaction.Widgets.vtkOrientationMarkerWidget.Corners.BOTTOM_LEFT);\n    orientationWidget.setViewportSize(0.2);\n\n};\n\n\nfunction load_and_render(parent_element)\n{\nnew Promise(\n  function(resolve, reject)\n  {\n    if (typeof(require) !== \"undefined\" ){\n        require.config({\n         \"paths\": {\"vtk\": \"https://unpkg.com/vtk\"},\n        });\n        require([\"vtk\"], resolve, reject);\n    } else if ( typeof(vtk) === \"undefined\" ){\n        var script = document.createElement(\"script\");\n    \tscript.onload = resolve;\n    \tscript.onerror = reject;\n    \tscript.src = \"https://unpkg.com/vtk.js\";\n    \tdocument.head.appendChild(script);\n    } else { resolve() };\n }\n).then(() => {\n    var data = [{\"shape\": \"<?xml version=\\\"1.0\\\"?>\\n<VTKFile type=\\\"PolyData\\\" version=\\\"0.1\\\" byte_order=\\\"LittleEndian\\\" header_type=\\\"UInt32\\\" compressor=\\\"vtkZLibDataCompressor\\\">\\n  <PolyData>\\n    <Piece NumberOfPoints=\\\"104\\\"                  NumberOfVerts=\\\"8\\\"                    NumberOfLines=\\\"36\\\"                   NumberOfStrips=\\\"0\\\"                    NumberOfPolys=\\\"12\\\"                  >\\n      <PointData Normals=\\\"Normals\\\">\\n        <DataArray type=\\\"Float32\\\" Name=\\\"Normals\\\" NumberOfComponents=\\\"3\\\" format=\\\"appended\\\" RangeMin=\\\"0\\\"                    RangeMax=\\\"1\\\"                    offset=\\\"0\\\"                   />\\n      </PointData>\\n      <CellData Normals=\\\"Normals\\\">\\n        <DataArray type=\\\"Int64\\\" IdType=\\\"1\\\" Name=\\\"SUBSHAPE_IDS\\\" format=\\\"appended\\\" RangeMin=\\\"4\\\"                    RangeMax=\\\"34\\\"                   offset=\\\"80\\\"                  />\\n        <DataArray type=\\\"Int64\\\" IdType=\\\"1\\\" Name=\\\"MESH_TYPES\\\" format=\\\"appended\\\" RangeMin=\\\"2\\\"                    RangeMax=\\\"7\\\"                    offset=\\\"204\\\"                 />\\n        <DataArray type=\\\"Float32\\\" Name=\\\"Normals\\\" NumberOfComponents=\\\"3\\\" format=\\\"appended\\\" RangeMin=\\\"1\\\"                    RangeMax=\\\"1\\\"                    offset=\\\"260\\\"                 />\\n      </CellData>\\n      <Points>\\n        <DataArray type=\\\"Float32\\\" Name=\\\"Points\\\" NumberOfComponents=\\\"3\\\" format=\\\"appended\\\" RangeMin=\\\"152.10522673\\\"         RangeMax=\\\"152.10522673\\\"         offset=\\\"340\\\"                 />\\n      </Points>\\n      <Verts>\\n        <DataArray type=\\\"Int64\\\" Name=\\\"connectivity\\\" format=\\\"appended\\\" RangeMin=\\\"\\\"                     RangeMax=\\\"\\\"                     offset=\\\"532\\\"                 />\\n        <DataArray type=\\\"Int64\\\" Name=\\\"offsets\\\" format=\\\"appended\\\" RangeMin=\\\"\\\"                     RangeMax=\\\"\\\"                     offset=\\\"596\\\"                 />\\n      </Verts>\\n      <Lines>\\n        <DataArray type=\\\"Int64\\\" Name=\\\"connectivity\\\" format=\\\"appended\\\" RangeMin=\\\"\\\"                     RangeMax=\\\"\\\"                     offset=\\\"660\\\"                 />\\n        <DataArray type=\\\"Int64\\\" Name=\\\"offsets\\\" format=\\\"appended\\\" RangeMin=\\\"\\\"                     RangeMax=\\\"\\\"                     offset=\\\"860\\\"                 />\\n      </Lines>\\n      <Strips>\\n        <DataArray type=\\\"Int64\\\" Name=\\\"connectivity\\\" format=\\\"appended\\\" RangeMin=\\\"\\\"                     RangeMax=\\\"\\\"                     offset=\\\"996\\\"                 />\\n        <DataArray type=\\\"Int64\\\" Name=\\\"offsets\\\" format=\\\"appended\\\" RangeMin=\\\"\\\"                     RangeMax=\\\"\\\"                     offset=\\\"1012\\\"                />\\n      </Strips>\\n      <Polys>\\n        <DataArray type=\\\"Int64\\\" Name=\\\"connectivity\\\" format=\\\"appended\\\" RangeMin=\\\"\\\"                     RangeMax=\\\"\\\"                     offset=\\\"1028\\\"                />\\n        <DataArray type=\\\"Int64\\\" Name=\\\"offsets\\\" format=\\\"appended\\\" RangeMin=\\\"\\\"                     RangeMax=\\\"\\\"                     offset=\\\"1152\\\"                />\\n      </Polys>\\n    </Piece>\\n  </PolyData>\\n  <AppendedData encoding=\\\"base64\\\">\\n   _AQAAAACAAADgBAAAKQAAAA==eJxjYBgFo2AUDH3QsJ84doM9Ep8INilqQWxi3UGO2aSYC2EDADw7F+k=AQAAAACAAADAAQAASQAAAA==eJyFzjcOgDAABEEKRAYRjGyCAPH/R1Kw/V4z5W2Z/auwwRYnnDHhhgXW2GGPIy4YMOKOB154Yy4O4iqe4iO+ovVaj/19eGUEfw==AQAAAACAAADAAQAAFgAAAA==eJxjYoAAJjJp1lEaL81OYxoA2KABGQ==AQAAAACAAACgAgAAKgAAAA==eJxjYGiwZ4CDUfYoGy62H5WNob4BWTGmPLp+fGrh4vsR5kL0AAChcC9JAQAAAACAAADgBAAAfgAAAA==eJy1kVEKwDAIQz2bJ9lZ/eqxBqUUCUl1jH51BBeTp9kIs8dtvvN7vcOT7kT3pK+5rQfRu/4Buvq3yoP+OBPN/A666q58MH+ex743+dzipnxu8UQdu//hz7ozDix/tZfxVzwVhyr/aZfq1bnp1xupe6nMFXPmecq/974yxGgAAQAAAACAAABAAAAAHgAAAA==eJxjYIAARijNBKWZoTQLlGaF0mxQmh1KAwAC4AAdAQAAAACAAABAAAAAHgAAAA==eJxjZIAAJijNDKVZoDQrlGaD0uxQmgNKAwAEAAAlAQAAAACAAABAAgAAgwAAAA==eJwtxcdCAQAAAFBHIwmRERIZZZYdpYyU0f//jYP3Li8YuAg57IivHPW1Y75x3AknfeuU075zxlnnnPe9Cy665AeX/eiKq35yzXU33PSzX9xy2x133XPfr37zwEOPPPbEU8/87rkX/vCnl/7yt1dee+Otf7zzr/+898FHn/zvMyt2DD0=AQAAAACAAAAgAQAAUgAAAA==eJwtxdEGgwAAAMDJJJNJkkkyM0kyk8kkk0n6/y/qobuXC06Hs0NHvjj21YlTZ859c+HSle9++OnajVt3fvnt3h8P/nr05J9n/7149eYdEH4FNQ==AAAAAACAAAAAAAAAAAAAAACAAAAAAAAAAQAAAACAAAAgAQAASgAAAA==eJxdybkVgDAMBFGXiMVhzG3A0H8HBIySVfKfZi38F7HBFk36gD12mGT3PmHGEWfZvW+44oK77N4LXnhKP2Sv+OAr3f8bPyDJDN0=AQAAAACAAABgAAAAKAAAAA==eJxjZoAANijNCaV5oDQ/lBaC0qJQWgJKS0NpOSitCKVVoDQAIoAA6w==\\n  </AppendedData>\\n</VTKFile>\\n\", \"color\": [1, 0.8, 0, 1], \"position\": [0, 0, 0], \"orientation\": [0, 0, 0]}];\n    render(data, parent_element, 0.5);\n});\n}\n\nload_and_render(element);\n",
      "text/plain": [
       "<cadquery.cq.Workplane at 0x7f82dca9ce60>"
      ]
     },
     "metadata": {},
     "output_type": "display_data"
    },
    {
     "data": {
      "application/javascript": "\n\nfunction render(data, parent_element, ratio){\n    \n    // Initial setup\n    const renderWindow = vtk.Rendering.Core.vtkRenderWindow.newInstance();\n    const renderer = vtk.Rendering.Core.vtkRenderer.newInstance({ background: [1, 1, 1 ] });\n    renderWindow.addRenderer(renderer);\n        \n    // iterate over all children children\n    for (var el of data){ \n        var trans = el.position;\n        var rot = el.orientation;\n        var rgba = el.color;\n        var shape = el.shape;\n        \n        // load the inline data\n        var reader = vtk.IO.XML.vtkXMLPolyDataReader.newInstance();\n        const textEncoder = new TextEncoder();\n        reader.parseAsArrayBuffer(textEncoder.encode(shape));\n\n        // setup actor,mapper and add\n        const mapper = vtk.Rendering.Core.vtkMapper.newInstance();\n        mapper.setInputConnection(reader.getOutputPort());\n        mapper.setResolveCoincidentTopologyToPolygonOffset();\n        mapper.setResolveCoincidentTopologyPolygonOffsetParameters(0.9,20);\n\n        const actor = vtk.Rendering.Core.vtkActor.newInstance();\n        actor.setMapper(mapper);\n\n        // set color and position\n        actor.getProperty().setColor(rgba.slice(0,3));\n        actor.getProperty().setOpacity(rgba[3]);\n        \n        actor.rotateZ(rot[2]*180/Math.PI);\n        actor.rotateY(rot[1]*180/Math.PI);\n        actor.rotateX(rot[0]*180/Math.PI);\n        \n        actor.setPosition(trans);\n\n        renderer.addActor(actor);\n\n    };\n    \n    renderer.resetCamera();\n    \n    const openglRenderWindow = vtk.Rendering.OpenGL.vtkRenderWindow.newInstance();\n    renderWindow.addView(openglRenderWindow);\n\n    // Add output to the \"parent element\"\n    var container;\n    var dims;\n    \n    if(typeof(parent_element.appendChild) !== \"undefined\"){\n        container = document.createElement(\"div\");\n        parent_element.appendChild(container);\n        dims = parent_element.getBoundingClientRect();\n    }else{\n        container = parent_element.append(\"<div/>\").children(\"div:last-child\").get(0);\n        dims = parent_element.get(0).getBoundingClientRect();\n    };\n\n    openglRenderWindow.setContainer(container);\n    \n    // handle size\n    if (ratio){\n        openglRenderWindow.setSize(dims.width, dims.width*ratio);\n    }else{\n        openglRenderWindow.setSize(dims.width, dims.height);\n    };\n    \n    // Interaction setup\n    const interact_style = vtk.Interaction.Style.vtkInteractorStyleManipulator.newInstance();\n\n    const manips = {\n        rot: vtk.Interaction.Manipulators.vtkMouseCameraTrackballRotateManipulator.newInstance(),\n        pan: vtk.Interaction.Manipulators.vtkMouseCameraTrackballPanManipulator.newInstance(),\n        zoom1: vtk.Interaction.Manipulators.vtkMouseCameraTrackballZoomManipulator.newInstance(),\n        zoom2: vtk.Interaction.Manipulators.vtkMouseCameraTrackballZoomManipulator.newInstance(),\n        roll: vtk.Interaction.Manipulators.vtkMouseCameraTrackballRollManipulator.newInstance(),\n    };\n\n    manips.zoom1.setControl(true);\n    manips.zoom2.setScrollEnabled(true);\n    manips.roll.setShift(true);\n    manips.pan.setButton(2);\n\n    for (var k in manips){\n        interact_style.addMouseManipulator(manips[k]);\n    };\n\n    const interactor = vtk.Rendering.Core.vtkRenderWindowInteractor.newInstance();\n    interactor.setView(openglRenderWindow);\n    interactor.initialize();\n    interactor.bindEvents(container);\n    interactor.setInteractorStyle(interact_style);\n\n    // Orientation marker\n\n    const axes = vtk.Rendering.Core.vtkAnnotatedCubeActor.newInstance();\n    axes.setXPlusFaceProperty({text: '+X'});\n    axes.setXMinusFaceProperty({text: '-X'});\n    axes.setYPlusFaceProperty({text: '+Y'});\n    axes.setYMinusFaceProperty({text: '-Y'});\n    axes.setZPlusFaceProperty({text: '+Z'});\n    axes.setZMinusFaceProperty({text: '-Z'});\n\n    const orientationWidget = vtk.Interaction.Widgets.vtkOrientationMarkerWidget.newInstance({\n        actor: axes,\n        interactor: interactor });\n    orientationWidget.setEnabled(true);\n    orientationWidget.setViewportCorner(vtk.Interaction.Widgets.vtkOrientationMarkerWidget.Corners.BOTTOM_LEFT);\n    orientationWidget.setViewportSize(0.2);\n\n};\n\n\nfunction load_and_render(parent_element)\n{\nnew Promise(\n  function(resolve, reject)\n  {\n    if (typeof(require) !== \"undefined\" ){\n        require.config({\n         \"paths\": {\"vtk\": \"https://unpkg.com/vtk\"},\n        });\n        require([\"vtk\"], resolve, reject);\n    } else if ( typeof(vtk) === \"undefined\" ){\n        var script = document.createElement(\"script\");\n    \tscript.onload = resolve;\n    \tscript.onerror = reject;\n    \tscript.src = \"https://unpkg.com/vtk.js\";\n    \tdocument.head.appendChild(script);\n    } else { resolve() };\n }\n).then(() => {\n    var data = [{\"shape\": \"<?xml version=\\\"1.0\\\"?>\\n<VTKFile type=\\\"PolyData\\\" version=\\\"0.1\\\" byte_order=\\\"LittleEndian\\\" header_type=\\\"UInt32\\\" compressor=\\\"vtkZLibDataCompressor\\\">\\n  <PolyData>\\n    <Piece NumberOfPoints=\\\"208\\\"                  NumberOfVerts=\\\"16\\\"                   NumberOfLines=\\\"72\\\"                   NumberOfStrips=\\\"0\\\"                    NumberOfPolys=\\\"28\\\"                  >\\n      <PointData Normals=\\\"Normals\\\">\\n        <DataArray type=\\\"Float32\\\" Name=\\\"Normals\\\" NumberOfComponents=\\\"3\\\" format=\\\"appended\\\" RangeMin=\\\"0\\\"                    RangeMax=\\\"1\\\"                    offset=\\\"0\\\"                   />\\n      </PointData>\\n      <CellData Normals=\\\"Normals\\\">\\n        <DataArray type=\\\"Int64\\\" IdType=\\\"1\\\" Name=\\\"SUBSHAPE_IDS\\\" format=\\\"appended\\\" RangeMin=\\\"5\\\"                    RangeMax=\\\"66\\\"                   offset=\\\"100\\\"                 />\\n        <DataArray type=\\\"Int64\\\" IdType=\\\"1\\\" Name=\\\"MESH_TYPES\\\" format=\\\"appended\\\" RangeMin=\\\"2\\\"                    RangeMax=\\\"7\\\"                    offset=\\\"296\\\"                 />\\n        <DataArray type=\\\"Float32\\\" Name=\\\"Normals\\\" NumberOfComponents=\\\"3\\\" format=\\\"appended\\\" RangeMin=\\\"1\\\"                    RangeMax=\\\"1\\\"                    offset=\\\"352\\\"                 />\\n      </CellData>\\n      <Points>\\n        <DataArray type=\\\"Float32\\\" Name=\\\"Points\\\" NumberOfComponents=\\\"3\\\" format=\\\"appended\\\" RangeMin=\\\"84.303024857\\\"         RangeMax=\\\"112.71645843\\\"         offset=\\\"468\\\"                 />\\n      </Points>\\n      <Verts>\\n        <DataArray type=\\\"Int64\\\" Name=\\\"connectivity\\\" format=\\\"appended\\\" RangeMin=\\\"\\\"                     RangeMax=\\\"\\\"                     offset=\\\"852\\\"                 />\\n        <DataArray type=\\\"Int64\\\" Name=\\\"offsets\\\" format=\\\"appended\\\" RangeMin=\\\"\\\"                     RangeMax=\\\"\\\"                     offset=\\\"932\\\"                 />\\n      </Verts>\\n      <Lines>\\n        <DataArray type=\\\"Int64\\\" Name=\\\"connectivity\\\" format=\\\"appended\\\" RangeMin=\\\"\\\"                     RangeMax=\\\"\\\"                     offset=\\\"1016\\\"                />\\n        <DataArray type=\\\"Int64\\\" Name=\\\"offsets\\\" format=\\\"appended\\\" RangeMin=\\\"\\\"                     RangeMax=\\\"\\\"                     offset=\\\"1376\\\"                />\\n      </Lines>\\n      <Strips>\\n        <DataArray type=\\\"Int64\\\" Name=\\\"connectivity\\\" format=\\\"appended\\\" RangeMin=\\\"\\\"                     RangeMax=\\\"\\\"                     offset=\\\"1596\\\"                />\\n        <DataArray type=\\\"Int64\\\" Name=\\\"offsets\\\" format=\\\"appended\\\" RangeMin=\\\"\\\"                     RangeMax=\\\"\\\"                     offset=\\\"1612\\\"                />\\n      </Strips>\\n      <Polys>\\n        <DataArray type=\\\"Int64\\\" Name=\\\"connectivity\\\" format=\\\"appended\\\" RangeMin=\\\"\\\"                     RangeMax=\\\"\\\"                     offset=\\\"1628\\\"                />\\n        <DataArray type=\\\"Int64\\\" Name=\\\"offsets\\\" format=\\\"appended\\\" RangeMin=\\\"\\\"                     RangeMax=\\\"\\\"                     offset=\\\"1836\\\"                />\\n      </Polys>\\n    </Piece>\\n  </PolyData>\\n  <AppendedData encoding=\\\"base64\\\">\\n   _AQAAAACAAADACQAANwAAAA==eJxjYBgFo2AUjIJRMApGwcCAhv3Es0lRC2bbk8Ymx03k2EMKm6Zmk+hPUvWQHf5E6QMA+Qst0Q==AQAAAACAAACgAwAAgQAAAA==eJyl0MsKggAARNE2UVoqWoaPJIleWkSaYkkW9v8f1aK7n4WzOeu509F/Bs5wjh4uMMQI93jAE+ZYYIkP7HCCJlpoo4tL9DHAGNe4wS3u8IgZnvGGd6ywwSe+8I09joWOcCVMhOlAL8KrsBa2wo/wK1S9Vc90oKqX6qH+/gA3/RCzAQAAAACAAACgAwAAGAAAAA==eJxjYoAApgGiWUfpUZoCmn2Y0wCevQJNAQAAAACAAABwBQAAQwAAAA==eJxjYGiwZ4CDUfYoe5Q9ykZmg/n7YQwouwGLGBHmoJiFbi66vgYc5jUQwUazHy6GzR50tdjch8ftuMzG7h4AUwBhDQ==AQAAAACAAADACQAADQEAAA==eJzFVcENwkAMywCMwSQZkIn4kBejMAZXUUrw2bkWFfVRyY18qZM4V7N7mJ3bY+1ZsDfsKe4pPnE88T3xPfHn+LW9n+azFwecOcB/3D78BfsLv/kT/kk/xtXZql6Mh+BE3Z9OpxPNyEc9mDNW9p/MopwLyVnOCzDymTacNcNZJ/qB4aw/f/dw/7CzyI/ibKXTd/KbqrfKg/UyvLZvql7UiZrz3ON//pd9VnNX/Rno37pfWOOue6f6RvRs3VPVf6VH7bWqt7zHiB6VX9VV/rPI7Fbtglt/D6CvwsZ3FOZ04Ul1Fr870py1kZ53/iQeGO6Xf+tRfR7dA9Tz0esp5+59LaU/SU9Kv3U6n2BFE7M=AQAAAACAAACAAAAAKgAAAA==eJwtxTkCwBAAADClbuX/v+0gWRLC9Tg6+XV2cXVz9/D08uft4x8VwAB5AQAAAACAAACAAAAAKwAAAA==eJwtxbcBgCAAADAEqSr4/7UMJEuucEQn384urm7uHn78+vP08u8NGgAAiQ==AQAAAACAAACABAAA+wAAAA==eJwtxdciEAAAAECfkJJERlJ2RoUoM9mySWWWWUY2EWVmZmf+qofuXu5WwH+Bvu07DvJdB/ueQ3zfoQ7zA4c7wpGO8kNH+5Fj/NhPHOs4xzvBiU5ysp86xalOc7qf+blfOMOZzvJLZzvHr/zauc5zvgtc6CK/cbHfusSlLnO5K1zpKlf7nWtc6zrXu8GNbnKzW/zerf7gj/7kNre7w53ucrc/+4t73Os+93vAg/7qbx7ysEc86u8e87gnPOkpT3vGs57zD897wT+96CX/8m8ve8WrXvO6N/zHm97ytne86z3/9b4PfOgjH/vEp/7nM5/7wpe+8rVvACx/MTk=AQAAAACAAABAAgAAkgAAAA==eJwtxdFmAgAAAMAkyWQySSaZJJkkk0kmSWaSJJlJkiSTzGQmSSYzSbJP7qG7lwsGLkIOO+IrR33tmG8cd8JJ3zrltO+ccdY5533vgosu+cFlP7riqp9cc90NN/3sF7fcdsdd99z3q9888NAjjz3x1DO/e+6FP/zppb/87ZXX3njrH+/86z/vffDRJ//7DNahFIk=AAAAAACAAAAAAAAAAAAAAACAAAAAAAAAAQAAAACAAACgAgAAiQAAAA==eJxdzUcSggAQBVHvfwoVcwYVM+acruTCnk2zeTX9KUhK/6eCZUywqr2JdaypN7R3sY0t9Y72Afaxpx73EMc4wVx9pH2qO/ZUe/QMZ9oz3al6/D9Xjzu+t8IFztWX2re4xgI36vHeHnd4UI/7iFc84QXP6vHeHW/4UI/7iV984Vs97g/+AJ4sPAo=AQAAAACAAADgAAAARgAAAA==eJwtxUEGgEAAAMCIiIiIiIiIWCIiIiIiIvr/Wzo0c5k4+iVOnTl34dKVazdu3bn34ODRk2cvXr159+HTl28/fv0BfY8Eww==\\n  </AppendedData>\\n</VTKFile>\\n\", \"color\": [1, 0.8, 0, 1], \"position\": [0, 0, 0], \"orientation\": [0, 0, 0]}];\n    render(data, parent_element, 0.5);\n});\n}\n\nload_and_render(element);\n",
      "text/plain": [
       "<cadquery.cq.Workplane at 0x7f8283146660>"
      ]
     },
     "metadata": {},
     "output_type": "display_data"
    }
   ],
   "source": [
    "for i in range(min(5, len(dataset))):  # len(dataset)):\n",
    "    # for i in range(5):  # len(dataset)):\n",
    "    model, _ = execute_cadquery_code(dataset[i][\"code\"])\n",
    "\n",
    "    display(model)"
   ]
  },
  {
   "cell_type": "code",
   "execution_count": null,
   "id": "ab9e4c93",
   "metadata": {},
   "outputs": [],
   "source": []
  }
 ],
 "metadata": {
  "kernelspec": {
   "display_name": "openevolve",
   "language": "python",
   "name": "python3"
  },
  "language_info": {
   "codemirror_mode": {
    "name": "ipython",
    "version": 3
   },
   "file_extension": ".py",
   "mimetype": "text/x-python",
   "name": "python",
   "nbconvert_exporter": "python",
   "pygments_lexer": "ipython3",
   "version": "3.12.10"
  }
 },
 "nbformat": 4,
 "nbformat_minor": 5
}
