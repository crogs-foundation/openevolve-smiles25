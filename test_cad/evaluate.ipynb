{
 "cells": [
  {
   "cell_type": "markdown",
   "id": "75aca5bc",
   "metadata": {},
   "source": [
    "# Evaluate two CAD objects"
   ]
  },
  {
   "cell_type": "code",
   "execution_count": 225,
   "id": "0d96e778",
   "metadata": {},
   "outputs": [],
   "source": [
    "import cadquery as cq\n",
    "import numpy as np\n",
    "from scipy.spatial import KDTree\n",
    "import trimesh\n",
    "from typing import Callable, Optional\n",
    "import ot"
   ]
  },
  {
   "cell_type": "markdown",
   "id": "839ac1b9",
   "metadata": {},
   "source": [
    "## Utilities"
   ]
  },
  {
   "cell_type": "code",
   "execution_count": 226,
   "id": "9a1a238c",
   "metadata": {},
   "outputs": [],
   "source": [
    "def sample_surface_points(\n",
    "    obj: trimesh.Trimesh, num_samples: int = 1000, seed: int = 420\n",
    ") -> np.ndarray:\n",
    "    return trimesh.sample.sample_surface(obj, num_samples, seed=seed)[0]\n",
    "\n",
    "\n",
    "def get_vertices(obj: trimesh.Trimesh, max_points: Optional[int] = None) -> np.ndarray:\n",
    "    vertices = obj.vertices\n",
    "    if max_points is not None and max_points > 0 and len(vertices) > max_points:\n",
    "        indices = np.random.choice(len(vertices), max_points, replace=False)\n",
    "        return vertices[indices]\n",
    "    return vertices"
   ]
  },
  {
   "cell_type": "markdown",
   "id": "df8c3269",
   "metadata": {},
   "source": [
    "## Setup"
   ]
  },
  {
   "cell_type": "code",
   "execution_count": 227,
   "id": "07e67738",
   "metadata": {},
   "outputs": [],
   "source": [
    "# These can be modified rather than hardcoding values for each dimension.\n",
    "length = 80.0  # Length of the block\n",
    "height = 60.0  # Height of the block\n",
    "thickness = 10.0  # Thickness of the block\n",
    "center_hole_dia = 22.0  # Diameter of center hole in block\n",
    "\n",
    "box_cq = (\n",
    "    cq.Workplane(\"XY\").box(length, height, thickness).faces(\">Z\").workplane().hole(0)\n",
    ")\n",
    "box_cq.export(\"./box.stl\")\n",
    "holed_box_cq = (\n",
    "    cq.Workplane(\"XY\")\n",
    "    .box(length, height, thickness)\n",
    "    .faces(\">Z\")\n",
    "    .workplane()\n",
    "    .hole(center_hole_dia)\n",
    ")\n",
    "_ = holed_box_cq.export(\"./holed_box.stl\")"
   ]
  },
  {
   "cell_type": "code",
   "execution_count": 228,
   "id": "df15b65d",
   "metadata": {},
   "outputs": [],
   "source": [
    "holed_box = trimesh.load_mesh(\"./holed_box.stl\")\n",
    "holed_box2 = trimesh.load_mesh(\"./holed_box.stl\")\n",
    "box = trimesh.load_mesh(\"./box.stl\")\n",
    "sphere = trimesh.creation.uv_sphere(radius=1.0)\n",
    "cube = trimesh.creation.box(extents=(1, 1, 1))"
   ]
  },
  {
   "cell_type": "markdown",
   "id": "831baafe",
   "metadata": {},
   "source": [
    "## Metrics"
   ]
  },
  {
   "cell_type": "code",
   "execution_count": 229,
   "id": "abe67e96",
   "metadata": {},
   "outputs": [],
   "source": [
    "def eval_wrapper(error_value: float = 0.0, precision: int = 5, debug: bool = True):\n",
    "    def decorator(function):\n",
    "        def inner_wrapper(*args, **kwargs):\n",
    "            try:\n",
    "                return float(np.round(function(*args, **kwargs), decimals=precision))\n",
    "            except Exception as e:\n",
    "                if debug:\n",
    "                    raise e\n",
    "                return error_value\n",
    "\n",
    "        return inner_wrapper\n",
    "\n",
    "    return decorator"
   ]
  },
  {
   "cell_type": "markdown",
   "id": "b96f7285",
   "metadata": {},
   "source": [
    "### Intersection Over Union"
   ]
  },
  {
   "cell_type": "code",
   "execution_count": 230,
   "id": "057c78ee",
   "metadata": {},
   "outputs": [],
   "source": [
    "# @eval_wrapper()\n",
    "# def iou(obj1: trimesh.Trimesh, obj2: trimesh.Trimesh) -> float:\n",
    "#     intersection_volume = 0\n",
    "#     for gt_mesh_i in obj1.split():\n",
    "#         for pred_mesh_i in obj2.split():\n",
    "#             intersection = gt_mesh_i.intersection(pred_mesh_i)\n",
    "#             volume = intersection.volume if intersection is not None else 0\n",
    "#             intersection_volume += volume\n",
    "\n",
    "#     gt_volume = sum(m.volume for m in obj1.split())\n",
    "#     pred_volume = sum(m.volume for m in obj2.split())\n",
    "#     union_volume = gt_volume + pred_volume - intersection_volume\n",
    "#     assert union_volume > 0\n",
    "#     return intersection_volume / union_volume"
   ]
  },
  {
   "cell_type": "code",
   "execution_count": 231,
   "id": "da73e923",
   "metadata": {},
   "outputs": [],
   "source": [
    "@eval_wrapper()\n",
    "def iou(obj1: trimesh.Trimesh, obj2: trimesh.Trimesh) -> float:\n",
    "    # Aim: Maximization\n",
    "    # Range: 0-1\n",
    "    intersection_volume = trimesh.boolean.intersection(\n",
    "        [obj1, obj2], check_volume=False\n",
    "    ).volume\n",
    "    union_volume = trimesh.boolean.union([obj1, obj2], check_volume=False).volume\n",
    "\n",
    "    if intersection_volume == 0 or union_volume == 0:\n",
    "        return 0.0\n",
    "    return intersection_volume / union_volume"
   ]
  },
  {
   "cell_type": "code",
   "execution_count": 232,
   "id": "58d31dda",
   "metadata": {},
   "outputs": [],
   "source": [
    "@eval_wrapper()\n",
    "def voxel_iou(obj1: trimesh.Trimesh, obj2: trimesh.Trimesh, resolution: int = 32):\n",
    "    # Aim: Maximization\n",
    "    # Range: 0-1\n",
    "    v1 = obj1.voxelized(pitch=obj1.scale / resolution).matrix\n",
    "    v2 = obj2.voxelized(pitch=obj2.scale / resolution).matrix\n",
    "\n",
    "    min_shape = np.minimum(v1.shape, v2.shape)\n",
    "    v1 = v1[: min_shape[0], : min_shape[1], : min_shape[2]]\n",
    "    v2 = v2[: min_shape[0], : min_shape[1], : min_shape[2]]\n",
    "\n",
    "    intersection = np.logical_and(v1, v2).sum()\n",
    "    union = np.logical_or(v1, v2).sum()\n",
    "    return intersection / union if union != 0 else 0.0"
   ]
  },
  {
   "cell_type": "markdown",
   "id": "55141038",
   "metadata": {},
   "source": [
    "### Generalized IoU"
   ]
  },
  {
   "cell_type": "markdown",
   "id": "99dca1bf",
   "metadata": {},
   "source": [
    "https://giou.stanford.edu/"
   ]
  },
  {
   "cell_type": "code",
   "execution_count": 233,
   "id": "ce1c26a1",
   "metadata": {},
   "outputs": [],
   "source": [
    "# @eval_wrapper()\n",
    "# def giou(obj1: trimesh.Trimesh, obj2: trimesh.Trimesh):\n",
    "#     # Aim: Maximization\n",
    "#     # Range: 0-1\n",
    "#     if not obj1.is_watertight or not obj2.is_watertight:\n",
    "#         return 0.0\n",
    "\n",
    "#     inter = trimesh.boolean.intersection([obj1, obj2],check_volume=False)\n",
    "#     vol_inter = inter.volume if inter is not None else 0.0\n",
    "\n",
    "#     uni = trimesh.boolean.union([obj1, obj2], check_volume=False)\n",
    "#     vol_union = uni.volume if uni is not None else obj1.volume + obj2.volume - vol_inter\n",
    "\n",
    "\n",
    "#     all_vertices = np.vstack((obj1.vertices, obj2.vertices))\n",
    "#     hull = trimesh.convex.convex_hull(all_vertices)\n",
    "#     vol_hull = hull.volume\n",
    "\n",
    "#     iou = vol_inter / vol_union if vol_union > 0 else 0.0\n",
    "#     giou = iou - ((vol_hull - vol_union) / vol_hull if vol_hull > 0 else 0.0)\n",
    "\n",
    "#     return giou\n",
    "\n",
    "\n",
    "# giou(holed_box, sphere)"
   ]
  },
  {
   "cell_type": "markdown",
   "id": "488c7ac4",
   "metadata": {},
   "source": [
    "### Chamfer Distance"
   ]
  },
  {
   "cell_type": "code",
   "execution_count": 234,
   "id": "b2bb980d",
   "metadata": {},
   "outputs": [],
   "source": [
    "@eval_wrapper()\n",
    "def inverse_chamfer_distance(\n",
    "    obj1: trimesh.Trimesh, obj2: trimesh.Trimesh, num_samples: int = 5000\n",
    "):\n",
    "    # Aim: Maximization\n",
    "    # Range: 0-1 (ONLY when scaling to unit scaled meshes)\n",
    "    points1 = sample_surface_points(obj1, num_samples)\n",
    "    points2 = sample_surface_points(obj2, num_samples)\n",
    "\n",
    "    gt_distance, _ = KDTree(points1).query(points2, k=1)\n",
    "    pred_distance, _ = KDTree(points2).query(points1, k=1)\n",
    "\n",
    "    actual_distance = np.mean(np.square(gt_distance)) + np.mean(\n",
    "        np.square(pred_distance)\n",
    "    )\n",
    "\n",
    "    # Following is only true on unit scaled meshes\n",
    "    inverse_distance = 1.0 - actual_distance\n",
    "\n",
    "    return inverse_distance\n",
    "\n",
    "    # prox_query2 = trimesh.proximity.ProximityQuery(obj1)\n",
    "    # prox_query1 = trimesh.proximity.ProximityQuery(obj2)\n",
    "\n",
    "    # dist_1_to_2 = prox_query2.signed_distance(points1)\n",
    "    # dist_2_to_1 = prox_query1.signed_distance(points2)\n",
    "    # chamfer_dist = np.mean(dist_1_to_2**2) + np.mean(dist_2_to_1**2)\n",
    "\n",
    "    # return chamfer_dist"
   ]
  },
  {
   "cell_type": "code",
   "execution_count": 235,
   "id": "32828f53",
   "metadata": {},
   "outputs": [],
   "source": [
    "@eval_wrapper()\n",
    "def inverse_chamfer_distance_vertices(\n",
    "    obj1: trimesh.Trimesh, obj2: trimesh.Trimesh, max_points: int = 5000\n",
    "):\n",
    "    # Aim: Maximization\n",
    "    # Range: 0-1 (ONLY when scaling to unit scaled meshes)\n",
    "    points1 = get_vertices(obj1, max_points)\n",
    "    points2 = get_vertices(obj2, max_points)\n",
    "\n",
    "    gt_distance, _ = KDTree(points1).query(points2, k=1)\n",
    "    pred_distance, _ = KDTree(points2).query(points1, k=1)\n",
    "\n",
    "    actual_distance = np.mean(np.square(gt_distance)) + np.mean(\n",
    "        np.square(pred_distance)\n",
    "    )\n",
    "\n",
    "    # Following is only true on unit scaled meshes\n",
    "    inverse_distance = 1.0 - actual_distance\n",
    "    return inverse_distance"
   ]
  },
  {
   "cell_type": "markdown",
   "id": "1728b3d7",
   "metadata": {},
   "source": [
    "### Hausdorff Distance"
   ]
  },
  {
   "cell_type": "markdown",
   "id": "0441b113",
   "metadata": {},
   "source": [
    "https://en.wikipedia.org/wiki/Hausdorff_distance"
   ]
  },
  {
   "cell_type": "code",
   "execution_count": 236,
   "id": "2ae36e6d",
   "metadata": {},
   "outputs": [],
   "source": [
    "@eval_wrapper()\n",
    "def inverse_hausdorff_distance(\n",
    "    obj1: trimesh.Trimesh, obj2: trimesh.Trimesh, num_samples: int = 5000\n",
    "):\n",
    "    # Aim: Maximization\n",
    "    # Range: 0-1 (ONLY when scaling to unit scaled meshes)\n",
    "    points1 = sample_surface_points(obj1, num_samples)\n",
    "    points2 = sample_surface_points(obj2, num_samples)\n",
    "\n",
    "    gt_distance, _ = KDTree(points1).query(points2, k=1)\n",
    "    pred_distance, _ = KDTree(points2).query(points1, k=1)\n",
    "\n",
    "    actual_distance = max(np.max(gt_distance), np.max(pred_distance))\n",
    "    # Following is only true on unit scaled meshes\n",
    "    inverse_distance = 1.0 - actual_distance\n",
    "    return inverse_distance"
   ]
  },
  {
   "cell_type": "code",
   "execution_count": 237,
   "id": "c715c789",
   "metadata": {},
   "outputs": [],
   "source": [
    "@eval_wrapper()\n",
    "def inverse_hausdorff_distance_vertices(\n",
    "    obj1: trimesh.Trimesh, obj2: trimesh.Trimesh, max_points: int = 5000\n",
    "):\n",
    "    # Aim: Maximization\n",
    "    # Range: 0-1 (ONLY when scaling to unit scaled meshes)\n",
    "    points1 = get_vertices(obj1, max_points)\n",
    "    points2 = get_vertices(obj2, max_points)\n",
    "\n",
    "    gt_distance, _ = KDTree(points1).query(points2, k=1)\n",
    "    pred_distance, _ = KDTree(points2).query(points1, k=1)\n",
    "\n",
    "    actual_distance = max(np.max(gt_distance), np.max(pred_distance))\n",
    "    # Following is only true on unit scaled meshes\n",
    "    inverse_distance = 1.0 - actual_distance\n",
    "    return inverse_distance"
   ]
  },
  {
   "cell_type": "markdown",
   "id": "94e9e3e7",
   "metadata": {},
   "source": [
    "### Wasserstein distance"
   ]
  },
  {
   "cell_type": "markdown",
   "id": "bc5fcca1",
   "metadata": {},
   "source": [
    "https://en.wikipedia.org/wiki/Wasserstein_metric"
   ]
  },
  {
   "cell_type": "code",
   "execution_count": 238,
   "id": "0d830938",
   "metadata": {},
   "outputs": [],
   "source": [
    "@eval_wrapper()\n",
    "def inverse_wasserstain_distance(\n",
    "    obj1: trimesh.Trimesh, obj2: trimesh.Trimesh, num_samples: int = 1000\n",
    ") -> float:\n",
    "    # Aim: Maximization\n",
    "    # Range: 0-1 (ONLY when scaling to unit scaled meshes)\n",
    "    points1 = sample_surface_points(obj1, num_samples)\n",
    "    points2 = sample_surface_points(obj2, num_samples)\n",
    "\n",
    "    a = np.ones((num_samples,)) / num_samples\n",
    "    b = np.ones((num_samples,)) / num_samples\n",
    "\n",
    "    cost_matrix = ot.dist(points1, points2, metric=\"sqeuclidean\")\n",
    "\n",
    "    actual_distance: float = ot.emd2(a, b, cost_matrix)  # type: ignore\n",
    "    # Following is only true on unit scaled meshes\n",
    "    inverse_distance = 1.0 - actual_distance\n",
    "    return inverse_distance"
   ]
  },
  {
   "cell_type": "markdown",
   "id": "39171d04",
   "metadata": {},
   "source": [
    "### Volume/Surface Area Similarity"
   ]
  },
  {
   "cell_type": "code",
   "execution_count": 239,
   "id": "73b81bee",
   "metadata": {},
   "outputs": [],
   "source": [
    "@eval_wrapper()\n",
    "def volume_similarity(obj1: trimesh.Trimesh, obj2: trimesh.Trimesh) -> float:\n",
    "    # Aim: Maximization\n",
    "    # Range: 0-1\n",
    "    # TODO: twice bigger and twice smaller give the same metric\n",
    "\n",
    "    if not obj1.is_watertight or not obj2.is_watertight:\n",
    "        return 0.0\n",
    "\n",
    "    vol1 = float(obj1.volume)\n",
    "    vol2 = float(obj2.volume)\n",
    "\n",
    "    if vol1 + vol2 == 0:\n",
    "        return 1.0\n",
    "    return 1.0 - abs(vol1 - vol2) / max(vol1, vol2)"
   ]
  },
  {
   "cell_type": "code",
   "execution_count": 240,
   "id": "e117e4bb",
   "metadata": {},
   "outputs": [],
   "source": [
    "@eval_wrapper()\n",
    "def area_similarity(obj1: trimesh.Trimesh, obj2: trimesh.Trimesh) -> float:\n",
    "    # Aim: Maximization\n",
    "    # Range: 0-1\n",
    "    # TODO: twice bigger and twice smaller give the smae metric\n",
    "    if not obj1.is_watertight or not obj2.is_watertight:\n",
    "        return 0.0\n",
    "\n",
    "    area1 = float(obj1.area)\n",
    "    area2 = float(obj2.area)\n",
    "\n",
    "    if max(area1, area2) == 0:\n",
    "        return 1.0\n",
    "\n",
    "    return 1.0 - abs(area1 - area2) / max(area1, area2)"
   ]
  },
  {
   "cell_type": "markdown",
   "id": "5aadcec1",
   "metadata": {},
   "source": [
    "### Bounding Box IoU"
   ]
  },
  {
   "cell_type": "markdown",
   "id": "1c1bda1c",
   "metadata": {},
   "source": [
    "Faster approximation of IoU"
   ]
  },
  {
   "cell_type": "code",
   "execution_count": 241,
   "id": "4801b5b9",
   "metadata": {},
   "outputs": [],
   "source": [
    "@eval_wrapper()\n",
    "def bbiou(obj1: trimesh.Trimesh, obj2: trimesh.Trimesh) -> float:\n",
    "    bbox1 = obj1.bounds\n",
    "    bbox2 = obj2.bounds\n",
    "\n",
    "    min1, max1 = bbox1\n",
    "    min2, max2 = bbox2\n",
    "\n",
    "    inter_min = np.maximum(min1, min2)\n",
    "    inter_max = np.minimum(max1, max2)\n",
    "\n",
    "    if np.any(inter_min >= inter_max):\n",
    "        return 0.0\n",
    "\n",
    "    vol1 = np.prod(max1 - min1)\n",
    "    vol2 = np.prod(max2 - min2)\n",
    "    inter_vol = np.prod(inter_max - inter_min)\n",
    "\n",
    "    union_vol = vol1 + vol2 - inter_vol\n",
    "\n",
    "    if union_vol < 1e-9:\n",
    "        return 0.0\n",
    "\n",
    "    return inter_vol / union_vol"
   ]
  },
  {
   "cell_type": "markdown",
   "id": "19c9c8b1",
   "metadata": {},
   "source": [
    "### Centroid distance"
   ]
  },
  {
   "cell_type": "code",
   "execution_count": 242,
   "id": "efec5aa5",
   "metadata": {},
   "outputs": [],
   "source": [
    "@eval_wrapper()\n",
    "def inverse_centroid_distance(obj1: trimesh.Trimesh, obj2: trimesh.Trimesh) -> float:\n",
    "    # Aim: Maximization\n",
    "    # Range: 0-1 (ONLY when scaling to unit scaled meshes)\n",
    "    actual_distance = float(np.linalg.norm(obj1.centroid - obj2.centroid))\n",
    "    # Following is only true on unit scaled meshes\n",
    "    inverse_distance = 1.0 - actual_distance\n",
    "    return inverse_distance"
   ]
  },
  {
   "cell_type": "markdown",
   "id": "55a0f971",
   "metadata": {},
   "source": [
    "### Inertia Similarity"
   ]
  },
  {
   "cell_type": "markdown",
   "id": "651c32c7",
   "metadata": {},
   "source": [
    "https://en.wikipedia.org/wiki/Moment_of_inertia"
   ]
  },
  {
   "cell_type": "code",
   "execution_count": 243,
   "id": "8155c41b",
   "metadata": {},
   "outputs": [],
   "source": [
    "@eval_wrapper()\n",
    "def inertia_similarity(obj1: trimesh.Trimesh, obj2: trimesh.Trimesh) -> float:\n",
    "    # Aim: Maximization\n",
    "    # Range: 0-1\n",
    "    i1 = obj1.moment_inertia\n",
    "    i2 = obj2.moment_inertia\n",
    "    diff = np.linalg.norm(i1 - i2)\n",
    "    norm = np.linalg.norm(i1) + np.linalg.norm(i2)\n",
    "    return float(1.0 - diff / norm if norm != 0 else 1.0)"
   ]
  },
  {
   "cell_type": "markdown",
   "id": "b838e24a",
   "metadata": {},
   "source": [
    "## Evaluate"
   ]
  },
  {
   "cell_type": "code",
   "execution_count": 244,
   "id": "0d4a4e4a",
   "metadata": {},
   "outputs": [],
   "source": [
    "metrics_dict: dict[str, Callable[[trimesh.Trimesh, trimesh.Trimesh], float]] = {\n",
    "    \"iou\": iou,\n",
    "    # \"giou\": giou,\n",
    "    \"viou\": voxel_iou,\n",
    "    \"cd\": inverse_chamfer_distance,\n",
    "    \"cdv\": inverse_chamfer_distance_vertices,\n",
    "    \"hd\": inverse_hausdorff_distance,\n",
    "    \"hdv\": inverse_hausdorff_distance_vertices,\n",
    "    \"wd\": inverse_wasserstain_distance,\n",
    "    \"vs\": volume_similarity,\n",
    "    \"as\": area_similarity,\n",
    "    # \"bbiou\": bbiou,\n",
    "    \"ctd\": inverse_centroid_distance,\n",
    "    \"is\": inertia_similarity,\n",
    "}\n",
    "\n",
    "\n",
    "def transform(obj: trimesh.Trimesh) -> trimesh.Trimesh:\n",
    "    center = (obj.bounds[0] + obj.bounds[1]) / 2.0\n",
    "    obj = obj.apply_translation(-center)\n",
    "    extent = np.max(obj.extents)\n",
    "    if extent > 1e-7:\n",
    "        obj = obj.apply_scale(1.0 / extent)\n",
    "    return obj.apply_transform(\n",
    "        trimesh.transformations.translation_matrix([0.5, 0.5, 0.5])\n",
    "    )\n",
    "\n",
    "\n",
    "def evaluate(\n",
    "    obj1: trimesh.Trimesh,\n",
    "    obj2: trimesh.Trimesh,\n",
    "    metrics_dict: dict[\n",
    "        str, Callable[[trimesh.Trimesh, trimesh.Trimesh], float]\n",
    "    ] = metrics_dict,\n",
    ") -> dict[str, float]:\n",
    "    transformed_obj1 = transform(obj1.copy())\n",
    "    transformed_obj2 = transform(obj2.copy())\n",
    "    return {\n",
    "        name: metric_fn(transformed_obj1, transformed_obj2)\n",
    "        for name, metric_fn in metrics_dict.items()\n",
    "    }"
   ]
  },
  {
   "cell_type": "markdown",
   "id": "1253a795",
   "metadata": {},
   "source": [
    "## Experiments"
   ]
  },
  {
   "cell_type": "code",
   "execution_count": 245,
   "id": "ff16e46f",
   "metadata": {},
   "outputs": [],
   "source": [
    "# evaluate(holed_box, holed_box2)"
   ]
  },
  {
   "cell_type": "code",
   "execution_count": 246,
   "id": "d077a91b",
   "metadata": {},
   "outputs": [
    {
     "data": {
      "text/plain": [
       "{'iou': 0.92084,\n",
       " 'viou': 0.91509,\n",
       " 'cd': 0.9995,\n",
       " 'cdv': 0.75154,\n",
       " 'hd': 0.87124,\n",
       " 'hdv': 0.44954,\n",
       " 'wd': 0.99742,\n",
       " 'vs': 0.92084,\n",
       " 'as': 0.99445,\n",
       " 'ctd': 1.0,\n",
       " 'is': 0.99689}"
      ]
     },
     "execution_count": 246,
     "metadata": {},
     "output_type": "execute_result"
    }
   ],
   "source": [
    "evaluate(holed_box, box)"
   ]
  },
  {
   "cell_type": "code",
   "execution_count": 247,
   "id": "e7ee1a8a",
   "metadata": {},
   "outputs": [
    {
     "data": {
      "text/plain": [
       "{'iou': 0.52142,\n",
       " 'viou': 0.10393,\n",
       " 'cd': 0.96337,\n",
       " 'cdv': 0.59547,\n",
       " 'hd': 0.63652,\n",
       " 'hdv': 0.29289,\n",
       " 'wd': 0.96726,\n",
       " 'vs': 0.52142,\n",
       " 'as': 0.52251,\n",
       " 'ctd': 1.0,\n",
       " 'is': 0.47559}"
      ]
     },
     "execution_count": 247,
     "metadata": {},
     "output_type": "execute_result"
    }
   ],
   "source": [
    "evaluate(cube, sphere)"
   ]
  }
 ],
 "metadata": {
  "kernelspec": {
   "display_name": "openevolve",
   "language": "python",
   "name": "python3"
  },
  "language_info": {
   "codemirror_mode": {
    "name": "ipython",
    "version": 3
   },
   "file_extension": ".py",
   "mimetype": "text/x-python",
   "name": "python",
   "nbconvert_exporter": "python",
   "pygments_lexer": "ipython3",
   "version": "3.12.10"
  }
 },
 "nbformat": 4,
 "nbformat_minor": 5
}
