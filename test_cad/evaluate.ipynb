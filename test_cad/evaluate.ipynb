{
 "cells": [
  {
   "cell_type": "markdown",
   "id": "75aca5bc",
   "metadata": {},
   "source": [
    "# Evaluate two CAD objects"
   ]
  },
  {
   "cell_type": "code",
   "execution_count": 96,
   "id": "0d96e778",
   "metadata": {},
   "outputs": [],
   "source": [
    "import cadquery as cq\n",
    "import numpy as np\n",
    "from scipy.spatial import KDTree\n",
    "import trimesh\n",
    "from typing import Callable"
   ]
  },
  {
   "cell_type": "markdown",
   "id": "df8c3269",
   "metadata": {},
   "source": [
    "## Setup"
   ]
  },
  {
   "cell_type": "code",
   "execution_count": 97,
   "id": "07e67738",
   "metadata": {},
   "outputs": [
    {
     "data": {
      "application/javascript": "\n\nfunction render(data, parent_element, ratio){\n    \n    // Initial setup\n    const renderWindow = vtk.Rendering.Core.vtkRenderWindow.newInstance();\n    const renderer = vtk.Rendering.Core.vtkRenderer.newInstance({ background: [1, 1, 1 ] });\n    renderWindow.addRenderer(renderer);\n        \n    // iterate over all children children\n    for (var el of data){ \n        var trans = el.position;\n        var rot = el.orientation;\n        var rgba = el.color;\n        var shape = el.shape;\n        \n        // load the inline data\n        var reader = vtk.IO.XML.vtkXMLPolyDataReader.newInstance();\n        const textEncoder = new TextEncoder();\n        reader.parseAsArrayBuffer(textEncoder.encode(shape));\n\n        // setup actor,mapper and add\n        const mapper = vtk.Rendering.Core.vtkMapper.newInstance();\n        mapper.setInputConnection(reader.getOutputPort());\n        mapper.setResolveCoincidentTopologyToPolygonOffset();\n        mapper.setResolveCoincidentTopologyPolygonOffsetParameters(0.9,20);\n\n        const actor = vtk.Rendering.Core.vtkActor.newInstance();\n        actor.setMapper(mapper);\n\n        // set color and position\n        actor.getProperty().setColor(rgba.slice(0,3));\n        actor.getProperty().setOpacity(rgba[3]);\n        \n        actor.rotateZ(rot[2]*180/Math.PI);\n        actor.rotateY(rot[1]*180/Math.PI);\n        actor.rotateX(rot[0]*180/Math.PI);\n        \n        actor.setPosition(trans);\n\n        renderer.addActor(actor);\n\n    };\n    \n    renderer.resetCamera();\n    \n    const openglRenderWindow = vtk.Rendering.OpenGL.vtkRenderWindow.newInstance();\n    renderWindow.addView(openglRenderWindow);\n\n    // Add output to the \"parent element\"\n    var container;\n    var dims;\n    \n    if(typeof(parent_element.appendChild) !== \"undefined\"){\n        container = document.createElement(\"div\");\n        parent_element.appendChild(container);\n        dims = parent_element.getBoundingClientRect();\n    }else{\n        container = parent_element.append(\"<div/>\").children(\"div:last-child\").get(0);\n        dims = parent_element.get(0).getBoundingClientRect();\n    };\n\n    openglRenderWindow.setContainer(container);\n    \n    // handle size\n    if (ratio){\n        openglRenderWindow.setSize(dims.width, dims.width*ratio);\n    }else{\n        openglRenderWindow.setSize(dims.width, dims.height);\n    };\n    \n    // Interaction setup\n    const interact_style = vtk.Interaction.Style.vtkInteractorStyleManipulator.newInstance();\n\n    const manips = {\n        rot: vtk.Interaction.Manipulators.vtkMouseCameraTrackballRotateManipulator.newInstance(),\n        pan: vtk.Interaction.Manipulators.vtkMouseCameraTrackballPanManipulator.newInstance(),\n        zoom1: vtk.Interaction.Manipulators.vtkMouseCameraTrackballZoomManipulator.newInstance(),\n        zoom2: vtk.Interaction.Manipulators.vtkMouseCameraTrackballZoomManipulator.newInstance(),\n        roll: vtk.Interaction.Manipulators.vtkMouseCameraTrackballRollManipulator.newInstance(),\n    };\n\n    manips.zoom1.setControl(true);\n    manips.zoom2.setScrollEnabled(true);\n    manips.roll.setShift(true);\n    manips.pan.setButton(2);\n\n    for (var k in manips){\n        interact_style.addMouseManipulator(manips[k]);\n    };\n\n    const interactor = vtk.Rendering.Core.vtkRenderWindowInteractor.newInstance();\n    interactor.setView(openglRenderWindow);\n    interactor.initialize();\n    interactor.bindEvents(container);\n    interactor.setInteractorStyle(interact_style);\n\n    // Orientation marker\n\n    const axes = vtk.Rendering.Core.vtkAnnotatedCubeActor.newInstance();\n    axes.setXPlusFaceProperty({text: '+X'});\n    axes.setXMinusFaceProperty({text: '-X'});\n    axes.setYPlusFaceProperty({text: '+Y'});\n    axes.setYMinusFaceProperty({text: '-Y'});\n    axes.setZPlusFaceProperty({text: '+Z'});\n    axes.setZMinusFaceProperty({text: '-Z'});\n\n    const orientationWidget = vtk.Interaction.Widgets.vtkOrientationMarkerWidget.newInstance({\n        actor: axes,\n        interactor: interactor });\n    orientationWidget.setEnabled(true);\n    orientationWidget.setViewportCorner(vtk.Interaction.Widgets.vtkOrientationMarkerWidget.Corners.BOTTOM_LEFT);\n    orientationWidget.setViewportSize(0.2);\n\n};\n\n\nfunction load_and_render(parent_element)\n{\nnew Promise(\n  function(resolve, reject)\n  {\n    if (typeof(require) !== \"undefined\" ){\n        require.config({\n         \"paths\": {\"vtk\": \"https://unpkg.com/vtk\"},\n        });\n        require([\"vtk\"], resolve, reject);\n    } else if ( typeof(vtk) === \"undefined\" ){\n        var script = document.createElement(\"script\");\n    \tscript.onload = resolve;\n    \tscript.onerror = reject;\n    \tscript.src = \"https://unpkg.com/vtk.js\";\n    \tdocument.head.appendChild(script);\n    } else { resolve() };\n }\n).then(() => {\n    var data = [{\"shape\": \"<?xml version=\\\"1.0\\\"?>\\n<VTKFile type=\\\"PolyData\\\" version=\\\"0.1\\\" byte_order=\\\"LittleEndian\\\" header_type=\\\"UInt32\\\" compressor=\\\"vtkZLibDataCompressor\\\">\\n  <PolyData>\\n    <Piece NumberOfPoints=\\\"1380\\\"                 NumberOfVerts=\\\"10\\\"                   NumberOfLines=\\\"795\\\"                  NumberOfStrips=\\\"0\\\"                    NumberOfPolys=\\\"520\\\"                 >\\n      <PointData Normals=\\\"Normals\\\">\\n        <DataArray type=\\\"Float32\\\" Name=\\\"Normals\\\" NumberOfComponents=\\\"3\\\" format=\\\"appended\\\" RangeMin=\\\"0\\\"                    RangeMax=\\\"1.0000000598\\\"         offset=\\\"0\\\"                   />\\n      </PointData>\\n      <CellData Normals=\\\"Normals\\\">\\n        <DataArray type=\\\"Int64\\\" IdType=\\\"1\\\" Name=\\\"SUBSHAPE_IDS\\\" format=\\\"appended\\\" RangeMin=\\\"5\\\"                    RangeMax=\\\"45\\\"                   offset=\\\"1996\\\"                />\\n        <DataArray type=\\\"Int64\\\" IdType=\\\"1\\\" Name=\\\"MESH_TYPES\\\" format=\\\"appended\\\" RangeMin=\\\"2\\\"                    RangeMax=\\\"8\\\"                    offset=\\\"2184\\\"                />\\n        <DataArray type=\\\"Float32\\\" Name=\\\"Normals\\\" NumberOfComponents=\\\"3\\\" format=\\\"appended\\\" RangeMin=\\\"0.99999996412\\\"        RangeMax=\\\"1.0000000329\\\"         offset=\\\"2292\\\"                />\\n      </CellData>\\n      <Points>\\n        <DataArray type=\\\"Float32\\\" Name=\\\"Points\\\" NumberOfComponents=\\\"3\\\" format=\\\"appended\\\" RangeMin=\\\"12.083045626\\\"         RangeMax=\\\"50.249378106\\\"         offset=\\\"3456\\\"                />\\n      </Points>\\n      <Verts>\\n        <DataArray type=\\\"Int64\\\" Name=\\\"connectivity\\\" format=\\\"appended\\\" RangeMin=\\\"\\\"                     RangeMax=\\\"\\\"                     offset=\\\"5148\\\"                />\\n        <DataArray type=\\\"Int64\\\" Name=\\\"offsets\\\" format=\\\"appended\\\" RangeMin=\\\"\\\"                     RangeMax=\\\"\\\"                     offset=\\\"5220\\\"                />\\n      </Verts>\\n      <Lines>\\n        <DataArray type=\\\"Int64\\\" Name=\\\"connectivity\\\" format=\\\"appended\\\" RangeMin=\\\"\\\"                     RangeMax=\\\"\\\"                     offset=\\\"5292\\\"                />\\n        <DataArray type=\\\"Int64\\\" Name=\\\"offsets\\\" format=\\\"appended\\\" RangeMin=\\\"\\\"                     RangeMax=\\\"\\\"                     offset=\\\"7288\\\"                />\\n      </Lines>\\n      <Strips>\\n        <DataArray type=\\\"Int64\\\" Name=\\\"connectivity\\\" format=\\\"appended\\\" RangeMin=\\\"\\\"                     RangeMax=\\\"\\\"                     offset=\\\"8892\\\"                />\\n        <DataArray type=\\\"Int64\\\" Name=\\\"offsets\\\" format=\\\"appended\\\" RangeMin=\\\"\\\"                     RangeMax=\\\"\\\"                     offset=\\\"8908\\\"                />\\n      </Strips>\\n      <Polys>\\n        <DataArray type=\\\"Int64\\\" Name=\\\"connectivity\\\" format=\\\"appended\\\" RangeMin=\\\"\\\"                     RangeMax=\\\"\\\"                     offset=\\\"8924\\\"                />\\n        <DataArray type=\\\"Int64\\\" Name=\\\"offsets\\\" format=\\\"appended\\\" RangeMin=\\\"\\\"                     RangeMax=\\\"\\\"                     offset=\\\"11684\\\"               />\\n      </Polys>\\n    </Piece>\\n  </PolyData>\\n  <AppendedData encoding=\\\"base64\\\">\\n   _AQAAAACAAACwQAAAxQUAAA==eJztlm1QVGUUx02HRC1ZMRNfSCnE93JR01H2OZNooiJMLaJmaiVZKi8qCobIZuMU5Utq6qhl5TRliVpGxqTsfSYVddQcJvAlKRXLJklLxjLSyJ499xznzgQ0On7ow/l/+rEze9nn3t/9n9OokUQikUgkEolEIpFIJBKJRCKRSCQSiUQikUgkEolEIpFIJJL/T17UN8e3/B0QFhYWFha+te/h31pYWFhYWLjRTc6QjT/7IGLw4eIAp+/3QfNuPfwBTt6ZB7FVh5CDIhdA2tthVoBXX8iBoz+ORM5sMw9qtuYil6m5sP34SuRPXp8JieEfI589NwNOnNmH7Fn+HCQnnETeevRpKLyvGnn4rCegJDcIzzF5kRf29nch144dDd7TYcjV2cPg16r7kUd8NBi+6vQg8kYdDa1iByC7r/WAha8o5GYbOkH7qDjkATPbQO+KRORPt9wF88+OQf7g2B3g2/gk8vkJF1W78meQV2YeUwlZzyOvaqzV+kVpyK6wTaro2izkbnuWqa9PzEU+HZWq5rR7Abmk1K0mdsxFrtj0tyelSR7yPUGbPfvDfcgdo4I9ByuY84svX7G53JXv75dh86IvL/orh9rfDU/rbvnn2dfsumyC9X2LHOTFBa9ZS9OzkEPCNln82xq33GUVj05Hjt9+xEp7eDrymQPnrMiSFOTOCX9Zw3dPQs5u10yvc49DXvFZaz2+7WPIO6rDdW32CGSV0l1vrga+55rveZv+g/SGrQ8hr9s1RL/ROwr5lCteX1rZnp+p5mdqnrXmZx1R9pT+/Lvf0IGf3p+q/+hyip3R7Iwqy9DLOxQiT393ju5TtYbd0+zejLwcfSnGi7ymNFeXNY1APr4wT1ec+BYdfnWbT2f3jEcurvXpu93BMY7PPeS8Ns57HNdRjusrx/9V/HvcVWsUOa+N88hTi1J1+OXdis9V0+WUcpwXedriCdq/uQm+h1N2JOlJs1uC474hL+wwVO9YGoncq71HVy3rBY77D47ngrxkWIQuKH0UeUD3tjrpzQTkxB+a6+oWY5GvXr9ufVM4Ech5yzgP5LxlnAdy3jLOAzkf8ArIecs4D+S8ZZwHct4yzgM57zfOAznvN84DOe83zhPnxxjngZz3GOeBnPcY54GcV8Z5IOeVcR45Z8XL6sL1LOTZd76jvkjORO58b5H6MDQDyHllnEfOWnVevXdkCp9d8dmN82CcB3IejPNAzoNxHnnUwa6QOu4R5FYD3VDuHwjkPBjngZwH4zxy5L6RUBrbEXlD4uPw1pVWyHHe8TAzviny+sOTIWVtDTqQV/QsbPmzEjnaNQNCDh1kl4BdMo5BH3KsfEk2FM59iZ0EdtK4CuyqcR6M8x5yG9ht6vkYB2Pnh6/wQVzP9Do7P/0/Or+gNhOCrq5vsPPpjJbj7HV2/h7qB7qH3CfAfVJf59MzarDzA896LfWb6T3FvVd54JziPhxlO2P3ku2SdjimHe7Z/W87iby3ns4PuN0340bPx3DP07uA3Np+R5BP7m1qTfMvsHvSPcjK3zWf54vF88XZ+ea3WfzbnJ1P7zLPNYvnmpl3muedmYOa5yB1BTJ1SJ2dH0r3nLqI57LmuXy7Or9y+Cz9e4eCBjs/MXm+fmDpEOSrsxdob7QL2ftLng6p2Vlf5xc7Pv9X5weukxTtUo7r19n5ferofPP+an5/6VzInc15i6jzTQ/oDOoB0w+a+6G+zqfZ2mDn04zmHtPcY/V1fqW9AwA5b3FPGuct7k/yivvW4r7tZu8eQM7X2fmBHaZvxo2eL+aep50HyHkPzwXjvDLOAzmvjPM8XxTPF9q1kEPsHQx5tb2b8fxSPL+cnX/N0fm0+/F8BJ6PxnnguUk7JHLw0H4QWtKf5y/w/KVdFDmwoyadDuM5DjzHzXwHi+Y77broQGAHHpNwkvcE4D2hvs7ftm4ehKbOYSeBnTSugpdcNc6Dcb7Bzv8HTI/oqQ==AQAAAACAAABoKQAAeQAAAA==eJzt2EsKggAYReEm0tOiTMlIySIspP1vz0FnGv9Q0XMn3xruWS1+W+MWUzzhGUussME3LnGDO9zjETPM8YJXvKnqbLzjA1/Yqups/GISeAgsVFWxDnyqquInsFNVVdXJG/WHof+Nqo5H+4Kq/tOeoKqqOn17Obez9w==AQAAAACAAABoKQAAPwAAAA==eJzt1zEKACAMA0ApiP7/xQ7SWQQHoZfl1iwZEm0nHtlJkiQvnZ/0IEmSJFlXv4SsZ+5+kCRJkiRJHlyEox3dAQAAAACAAAAcPgAAVwMAAA==eJzt2E1IVFEUB/AXEUgf4CIhrLBI7GMRFESEzrsLIyzMFgVJIAT2QQhiEX0Mpm/RpsACkaBFoVREiEUEIdW82yoIo6JWkZmLJLKIimgTZMfh/+Le95+GFmFCZ0D4eebN+N6955x7MAgiE/x6qdVqtVqtVqvVarVarVar1Wq1Wq1Wq9VqtVqtVqvVarV6imxTjvBT6D3nNS3u/X9xlIpH0+je1Oq/5egP4urp48B3wX1LrrfOe1bj/yT+u2vUarV6Cl1wDoj63neapdWP7k3+4trWdZq2uedzk947s8NcvvojVyzetKjd2Kdr4km/7jlueoeb42LxrtYj5kz/aXJj/yHzpPRS3ve3tppP8+4WjWcbD5jynmfkvsfNJtvzjvziVpP5PjFB/jJnp2l4M9umvezlNrOprYy8pKrOzLhQQR74bMyGPSvJJbXrTb9dS35Ysdo0XKsm265Kk124kfyxu9yMltaTB9eVmv0nt5OH2meZ2oO7yL2vvobLn+8mV1SNhCNX9pG/jT4Ih8dayJsX3whvnm0jrxg/F7b0HibfHmgPj5YdI89/uyXs/pDNu+rigrCk8kTR+Nj4UGbHnQ7y4Kr6zKnrneQgfxbzmSzX5HBN5Fq+M4fv9Cz3EOMePMt9xrhPz/KMMZ7Rs6xJ7KxP4kjWMHbWM3Ekax5jzT3LHsXYI8+ypzH21LPkgEUOeJacscgZz5JjFjnmWXLSIic9Sw5bJ58TR5LzFjnvWWrEokY8S01Z1JRnqUHr1GPiSGrWomY9S41bp94TR9ITLHqCZ+kh1ukniSPpORY9x7P0JYu+5Fl6mnX6W+JIeqBFD/QsfdKiT3qWHmvRYz1LH7bow56lh1unnydO4jVOPG98NpM2/hYZ9xamjWch49nJWCsy1paMvSBj78jYazJyw6SNXMob+VY0jlwlI7eNk/9F46gdMmqNjNrMG/VbNI7aJ6NXkNFbyOhFZPQuMnodGb2RjF5KRu8lo1eTg6Dw/+pwFpBxdpBx1pBxHpFxlpFx9pFxVpJxtpJxFif7GDr7WDCOs56M2YCMWYKM2YOMWYWM2YaMWYiM2YmMWYuM2YyMWS5MG7MfGbMiGbMlGfMnGbMrGbMuGfMwGbN0Jm3M22TM6jVp/wQjx3CFAQAAAACAAACwQAAA4wQAAA==eJzt20toX0UUx/ErhhKxBKUgoqWExlfVJD7Qnc2d/05dFNSFCILoRkgWFReCC63FhWiRtoui9UHQQhTBBy4KWeT+TkUrgkjFiuLCF8TqolZoBfE5He4xX2//+Wu7Mzm7w3AfM3POfz7MXP5VNXqgqo5ZVc3W1VKsNk5oT217D9f0cG9v6fprbN9Yb67TLrSrz7u6fagH9KHb3u1z9/n9+tzt/4HOWPr1odeJB479j4OT9vbda6dOxhePTtrwtTtK/M7whP3++aESz22/2t565Nz6ZNw8faU9t3+8xLdMXGEnHttS4g/uvdRuen9riYcnNtrL80+UeGT3Bts4/0yJL991kc3c+UqJvxq/wHY/tb/EQ9Pn2+LN75V4761rbc2Tn5R48eM19nXvmxLfN3SWzU//WOLHD57Qdb/9WuJPvz+iS34+u4zrh4e+0PV7zynxloc/1OuLIyU++suCbvhsXTv2N7Vv+sISj+yZ1Xkvri/xd+/u1EczoyV+/tltevDwWImP3XiPDh2+rMTHX9usamZTiV+YW6+79lxV4rFHjzfbbh8v8QPr3mjueGmixLNbb2uGtk+W+Mv7dyz8+dPf8WaP8zVTfk2+d8rvzc+c8mfmd9X+rtyH2vuQ+1Z733Kfa+9zHkvtY8ljrH2Meey1jz3PSe1zkueq9rnKc1j7HOa5rX1u85zXPuc5F8lzkXOUPEc5d8lzl3OaPKc518lznWsgeQ3k2kheG7lmktdMrqXktZRrLHmN5dpLXnu5JpPXZK7V5LWaazh5DefaTl7buebTt0c3vYr2Btc3eE6D5wvvFfoj9FPovzAuYbzCPAjzI8ybMJ/CPAvzL+TFkC9DHg35NeTdUA+GOjHUj6GuDPVmqENDfRrq1lDPhjr3eMHj9nfh9zZ+b/s78nfJ39X+7rxv8r61v1Mfi3ws7e/axy4fe7sO+FzJ56pdNwzriWGd8VyY56Jdlzx35rlr1zHPtXmu23XPa8O8Ntp10mvJvJbaddVrz7z22nVYWJ+9hs1ruF3Pm+4638fHQXHdx6BTfIQdgh2CHYIdgh2CHYIdgh2CHYIdgh2CHYIdgh2CHYIdgh2CHYIdgh2CHYIdgh2CHYIdgh2CHYIdgh2CHYIdgh2CHYIdgh2CHYIdgh2CHYIdgh2CHYIdgh2CHYIdgh2CHYIdgh2CHYIdgh2CHYIdgh2CHYIdgh2CHYIdgh2CHYIdgh2CHYIdgh2CHYIdgh2CHYIdgh2CHYIdgh2CHYIdgh2CHYIdgh2CHYIdgh2CHYIdgh2CHYIdgh2CHYIdgh2CHYIdgh2CHYIdgh2CHYIdgh2CHYIdgh2CHYIdgh2CHYIdgh2CHYIdgh2CHYIdgh2CHYIdgh2CHYIdgh365z6Ijvxv90dn0s+6Y+Jyz499VhX7rNhnxT4r9lmxzzrNfdYga07Xyn7v+q+GttfH/q6qYn8X+7vY38X+brXs7wZ+L2PcdaprWZhShSlhSpgSpqx2U5Y7M4wzsaqKM7E4E4szsTgTWy1nYmf0/SihPaGd+4t+9y73Pah7zsbrU7efYVPYFDaFTWHTSrRp4LcSGtHPne69dupz4ryrquK8K8674rwrzrtW8nnXv/7PSMvsL8KFcCFcCBfChRXpQnzvqKo4U4ozpThTijOl1XKmtLTO/wUwfMuqAQAAAACAAABQAAAAIgAAAA==eJwtxbcBACAIADAsiP7/sAPJkog2PL28nT4uXz9/BXgALg==AQAAAACAAABQAAAAIgAAAA==eJwtxbcBACAIADA76v8HM5As6a0MTy9vH4evn78TBzAAOA==AQAAAACAAACwMQAAxQUAAA==eJxdxUUAEEQCAEC6u7u7u7u7QUIaURppURqUNGiU7gZRSrpLQJDukgYFFVAB73H7ceYzsSL8X+xwnHDccLxw/HCCcMJwonDicJJw0nCycPJwinDKcKpw6nCacFpOx+k5A2fkTJyZs3BWzsbZOQfn5Fycm/NwXs7H+bkAF+RCXJiLcFEuxsW5BJfkUlyay3BZLsfluQJX5EpcmatwVa7G1bkG1+RaXJvrcF2ux/W5ATfkRtyYm3BTbsbvcHNuwS25Fb/LrbkNt+V23J47cEfuxO9xZ36fP+Au3JW7cXfuwT25F/fmD7kP9+V+3J8H8EAexB/xYP6YP+EhPJSH8XAewSN5FI/mMfwpf8ZjeRyP5wk8kSfx5/wFf8lf8WSewlN5Gk/nGTyTZ/HX4W/Cs8NzwnPD88LzwwvCC3kRL+YlvJSX8XJewSt5Fa/mNbyW1/F6/pY38Hf8PW/kTbyZt/BW/oG38XbewTt5F+/mPbyX9/F+PsAH+RAf5iN8lI/xj3ycT/BJ/olP8Wn+mc/wWT7H5/kCX+RLfJmv8FW+xtf5Bt/kW3yb7/AvfJfv8X1+wA/5ET/mJ/yUf+Xf+Bk/59/5D/6TX/BLfsV/8d/8D7/mN/yW/+UIEf97RI7EkTkKR+VoHJ1jcEyOxbE5DsfleByfE3BCTsSJOQkn5WScnFNwSk7FqTkNp+V0nD6cIZwxnCmcOZwlnDWcLZw9nCOcM5wrnDucJ5w3nC+cP1wgXDBcKFw4XCRcNFwsXDxcIlwyXCpcmstwWS7H5bkCV+RKXJmrcFWuxtW5BtfkWlyb63Bdrsf1uQE35EbcmJtwU27G73BzbsEtuRW/y625DbfldtyeO3BH7sTvcWd+nz/gLtyVu3F37sE9uRf35g+5D/flftyfB/BAHsQf8WD+mD/hITyUh/FwHsEjeRSP5jH8KX/GY3kcj+cJPJEn8ef8BX/JX/FknsJTeRpP5xk8k2fx1/wNz+Y5PJfn8XxewAt5ES/mJbyUl/FyXsEreRWv5jW8ltfxev6WN/B3/D1v5E28mbeEt4Z/CG8Lbw/vCO8M7wrvDu8J7w3vC+8PHwgfDB8KHw4fCR/lY/wjH+cTfJJ/4lN8mn/mM3yWz/F5vsAX+RJf5it8la/xdb7BN/kW3+Y7/Avf5Xt8nx/wQ37Ej/kJP+Vf+Td+xs/5d/6D/+QX/JJf8V/8N//Dr/kNv+V/OUKk/x6RI3FkjsJRORpH5xgck2NxbI7DcTkex+cEnJATcWJOwkk5GSfnFJySU3FqTsNpOR2n5wyckTNxZs7CWTkbZ+ccnJNzcW7Ow3k5H+fnAlyQC3FhLsJFuRgX5xJckktxaS7DZbkcl+cKXJErcWWuwlW5GlcP1wjXDNcK1w7XCdcN1wvXDzcIN+RG3JibcFNuxu9wc27BLbkVv8utuQ235XbcnjtwR+7E73Fnfp8/4C7clbtxd+7BPbkX9+YPuQ/35X7cnwfwQB7EH/Fg/pg/4SE8lIfxcB7BI3kUj+Yx/Cl/xmN5HI/nCTyRJ/Hn/AV/yV/xZJ7CU3kaT+cZPJNn8df8Dc/mOTyX5/F8XsALeREv5iW8lJfxcl7BK3kVr+Y1vJbX8Xr+ljfwd/w9b+RNvJm38Fb+gbfxdt7BO3kX7+Y9vJf38X4+wAf5EB/mI3yUj/GPfJxPhE+GfwqfCp/mn/kMn+VzfJ4v8EW+xJf5Cl/la3ydb/BNvsW3+Q7/wnf5Ht/nB/yQH/FjfsJP+Vf+jZ/xc/6d/+A/+QW/5Ff8F//N//BrfsNv+V+OEPm/R+RIHJmjcFSOxtE5BsfkWByb43BcjsfxOQEn5EScmJNwUk7GyTkFp+RUnJrTcFpOx+k5A2fkTJyZs3BWzsbZOQfn5Fycm/NwXs7H+bkAF+RCXJiLcFEuxsW5BJfkUlyay3BZLsfluQJX5EpcmatwVa7G1bkG1+RaXJvrcF2ux/XDDcINw/8D43n+cw==AQAAAACAAADYGAAAnwQAAA==eJw12FFHIIoChdE53U6SJEmSJEmSJEmSJEmSJEmSkSRJkiRJkiRJkiRJkiRJkiRJkmQkSZIkSZIkSZIkSe7DrLNf1m/YX8CvvwtkEIMZwlCGMZwRjGQUoxnDWMYxnglMZBKTmcJUpjGdGcxkFrOZw1zmMZ8FLGQRi1nCUpaxnBWsZBWrWcPfrGUd69nARjaxmS1sZRvb2cFOdrGbPexlH/s5wEEOcZgjHOUYxznBSU5xmjOc5RznucBFLnGZK1zlGte5wU1ucZs73OUe9/mHBzzkEY95wlOe8ZwXvOQVr3nDW97xng985BOf+cJXvvGdH/zkF7/5w1///CWAgQxiMEMYyjCGM4KRjGI0YxjLOMYzgYlMYjJTmMo0pjODmcxiNnOYyzzms4CFLGIxS1jKMpazgpWsYjVr+Ju1rGM9G9jIJjazha1sYzs72MkudrOHvexjPwc4yCEOc4SjHOM4JzjJKU5zhrOc4zwXuMglLnOFq1zjOje4yS1uc4e73OM+//CAhzziMU94yjOe84KXvOI1b3jLO97zgY984jNf+Mo3vvODn/ziN3/4KwAMZBCDGcJQhjGcEYxkFKMZw1jGMZ4JTGQSk5nCVKYxnRnMZBazmcNc5jGfBSxkEYtZwlKWsZwVrGQVq1nD36xlHevZwEY2sZktbGUb29nBTnaxmz3sZR/7OcBBDnGYIxzlGMc5wUlOcZoznOUc57nARS5xmStc5RrXucFNbnGbO9zlHvf5hwc85BGPecJTnvGcF7zkFa95w1ve8Z4PfOQTn/nCV77xnR/85Be/+cNf//tLAAMZxGCGMJRhDGcEIxnFaMYwlnGMZwITmcRkpjCVaUxnBjOZxWzmMJd5zGcBC1nEYpawlGUsZwUrWcVq1vA3a1nHejawkU1sZgtb2cZ2drCTXexmD3vZx34OcJBDHOYIRznGcU5wklOc5gxnOcd5LnCRS1zmCle5xnVucJNb3OYOd7nHff7hAQ95xGOe8JRnPOcFL3nFa97wlne85wMf+cRnvvCVb3znBz/5xW/+8L/DH8BABjGYIQxlGMMZwUhGMZoxjGUc45nARCYxmSlMZRrTmcFMZjGbOcxlHvNZwEIWsZglLGUZy1nBSlaxmjX8zVrWsZ4NbGQTm9nCVraxnR3sZBe72cNe9rGfAxzkEIc5wlGOcZwTnOQUpznDWc5xngtc5BKXucJVrnGdG9zkFre5w13ucZ9/eMBDHvGYJzzlGc95wUte8Zo3vOUd7/nARz7xmS985Rvf+cFPfvGbP/z1718CGMggBjOEoQxjOCMYyShGM4axjGM8E5jIJCYzhalMYzozmMksZjOHucxjPgtYyCIWs4SlLGM5K1jJKlazhr9ZyzrWs4GNbGIzW9jKNrazg53sYjd72Ms+9nOAgxziMEc4yjGOc4KTnOI0ZzjLOc5zgYtc4jJXuMo1rnODm9ziNne4yz3u8w8PeMgjHvOEpzzjOS94ySte84a3vOM9H/jIJz7zha984zs/+MkvfvOH/4X+AAYyiMEMYSjDGM4IRjKK0YxhLOMYzwQmMonJTGEq05jODGYyi/8HW7GILA==AAAAAACAAAAAAAAAAAAAAACAAAAAAAAAAQAAAACAAADAMAAAAggAAA==eJx1lFXUllUXRVHOtrs7sLu7uwsUEMQORBAEbDGxsAMbAxRbFEVRwCIETARsMbC7u8b4/zMv9hzj4WaNPeda57t5Xtq0bPG/f/vWbF2zTc395NvVbF+zbc39xem9WLNDzRdqPq8b/5Ju9hO1w7/csJ+gHf6Vhv147fCTGvbPaYd/tWE/Tjv85Ib9WO3wUxr2Y7TDT23Yj9YO/1rD/lnt8K837J/RDv9Gw/5p7fBvNuyf0g7/VsP+Se3wbzfsR2mHP7BhP1I7fEftDhL3uwfL0z9EnN6h4vQOE6d3uDi9I8TpHSlO7yhxep3F6R0tTq+LOL1jxOl1FafXTZzeseL0uovT6yFO7zhxej3F6fUSp9dbnN7x4vROEKd3oji9k8TpnSxO7xRxeqeK0zug5i01bxXnvk2ce6A49yBx7tvFue8Q5x4szn2nOPdd4tx3i3PfI859rzj3feLc94tzPyDOPUSc+0Fx7ofEuYeKcz8szv2IOPcwce5HxbkfE+f/yw7i9IaLcz8uzv2EOPcI8RH6+6fpO+e7v1nfOfs+6rMfoB39TvLmp9c8Q5z7THHus8S5zxbnPkecu68497ni3OeJc58vzn2BOPeF4tz9xLkvEue+WJz7EnHuS8W5LxPnvlyc+wpx7ivFua8S575anLu/OPc14tzXinNfJ859vTj3DeLcN4pz3yTOPUCc30sfcW5+B+/WfKfmtJrvycPblP9n65rvV76Pbvy+Je/wezfs99MOv1fDvq12+D0b9u20w+/RsG+vHX73hv3+2uF3a9h30A6/a8O+o3b4XRr2B2iH37lh30k7/E4N+wO1w+/YsD9IO/wODfuDtcNv37A/RDv8dg37j1rmHX7bhv0H9f64Zd5/oJvdJ+rT+1Qe/pk8/HN5+Bfy8C/l4V/Jw7+Wh38jD/9WHv6dPPx7efgP8vAf5eE/ycN/lof/Ig//VR7+mzz8d3n4H/LwP+Xhf8nD/5aH/yMP/1ce3qJkD5+hZA//sOaKla9QMl+pZA9fuWQPX6VkD1+1ZA9frWQPX71kD1+jZA9fs2QPX6tkD1+7ZA9fp2QPX7dkD1+vZA9fv2QP36BkD9+wZA/fqGQP37hkD9+kZA/ftGQP36xkD9+8ZA/fomQP9/+b8C1L3sG3KtnDty7Zw7cp2X+ov4efsSbfO9/58trxnbfUjv5y6rOfrt/NcuJR7yI+U8kePnPJHj5LyR4+a8kePlvJHj57yR4+R8kePmfJHj5XyR4+d8kePk/JHj5vyR4+X8kePn/JHr5AyR6+YMkevlDJHr5wyR6+SMkevmjJHr5YyR6+eMkevkTJHr5kyR6+VMkevnTJHr5MyR6+bMke3qpkP13fdytxfjf8XuB89/jDah5a83Bx7iNqHlXz45pHin8i37nmp/Lwz+Q7q8e7R6tPr0vNz+XhX8h3UY93j1GfXteaX8p31c2+W82vtIN/Ld9NPd49Vn163Wt+I99dN/seNb/Vrodu9sep30P8O3n49/I9xen1Eu8p/oN8b/Fe4j/KHy/eW/wnefjP8ieI0ztR/ATxX+RPEj9R/Fd5+G/yJ4vTO0X8ZPHf5U8VP0X8D/nTxE8V/1O+T82/5PvoZn96zb+1O103+zNq/qPdGbrZn1nzX+3O1M3+rJotIu/O0jvsz645Q+QdfMbI/my9z7vnqE+vb82WkX1f9dmfW7NE3p2rd9ifVzMi787TO+zPrzlT5N35eof9BTVnjry7QO+wv7DmLJF3F+od9v1qzhp510/vsL9I/X7is0X28Nkj+4vF6cHniOwvEad3qfgl4nNG9peJ04PPFdlfLk4PPndkf4U4Pfg8kf2V4vTg80b2V4nTg88X2V8tTg8+f2QPXyCy7y9O7xrx/uILRvbXitODLxTZXydOD75wZA9fJLK/XpzeDeLXiy8a2cMXi+xvFKd3k/iN4otH9vAlIvsB4vRuFh8gvmRkf4s4PfhSkT186cj+VnF6t9VcJrK/TX32A2suG3k3UO+wH1SzVeTdIL3D/nb1B4kvF9nDl4/s7xCnB18hsh8sTu9O8cHiK0b28JUi+7vE6cFXjuzvFqcHXyWyv0ec3r3i94ivGtnDV4vs7xOnd7/4feKrR/YPiNODrxHZw9eM7IeI03tQfIj4WpH9Q5WvHdk/pD77oTXXibyDrxvZD9X7vPuw+vQeqbleZP+I+uyH1Vw/8g6+QWQ/TO/z7qPq03us5oaR/WPqsx9ec6PIu+F6h/3jNTeOvINvEtk/rvd59wn16Y2ouWlkP0J99iNrbhZ5N1LvsB9Vc/PIu1F6h/2T6o8S3yKyf0qcHnzLyP5pcXrwrSL7Z8TpwbeO7OHbRPbPitMbXXPbyH60+uzH1Nwu8m6M3mE/tub2kXdj9Q77cTV3iLwbp3fYP1dzx8i75/QO+/E1d4q8G6932E+ouXPk3QS9w35izV0i7ybqHfbP19w18u55vcP+hZq7Rd69oHfYv1hz98i7F/UO+5dq7hF5B98zsn9J7/Puy+rTe6XmXpH9K+qzn1Rz78i7SXqH/as194m8e1XvsJ9cs3Xk3WS9w35KzTaRd1P0DvupNfeNvJuqd9i/pv5U8f0i+9fF6cHbRvZviNODt4vs3xSnB28f2b8lTg++f2T/tjg9eIfI/h1xevCOkf274vTgB0T28E6R/TRxeu+JTxM/MLJ/X5we/KDI/gNxevCDI/sPxenBD4nsp1d+aGQ/XX328MMi7z4Sp/cfyjI5JQ==AQAAAACAAABAEAAARQMAAA==eJw111PDEAYAQNFsLBtbtu1aWLZt27bdsm3btm3btvbwnd2X8xtu0EABhWBohmNERmY0xmQcxuefTMxkTMk0TM9MzMoczM18LMjCLMYSLM1yrMgqrM5arMsGbMxmbMk2bM9O7Moe7M1+HMghHM5RHMsJnMSpnMHZnMeFXMLlXMW13MDN3Mad3MP9PMSjPMHTPMeLvMLrvMW7fMDHfMaXfMP3/MSv/MHfDBI4wOAMxbCMwEiMyhiMzXhMyERMyhRMzXTMyCzMzlzMywL8m0VZnKVYlhVYmdVYk3VYn43YlC3Ymu3YkV3Ynb3YlwM4mMM4kmM4nhM5hdM5i3O5gIu5jCu5huu5iVu5g7u5jwd5hMd5imd5gZd5jTd5h/f5iE/5gq/5jh/5hd/5i4GDBBiMIRmG4fkHozA6YzEuE/AvJmFypmJaZmBmZmNO5mF+FmIR/sOSLMPyrMSqrMHarMeGbMLmbMW27MDO7Mae7MP+HMShHMHRHMd/OZnTOJNzOJ+LuJQruJrruJFbuJ27uJcHeJjHeJJneJ6XeJU3eJv3+JBP+Jyv+JYf+Jnf+JOBgoIhGJrhGJGRGY0xGYfx+ScTMxlTMg3TMxOzMgdzMx8LsjCLsQRLsxwrsgqrsxbrsgEbsxlbsg3bsxO7sgd7sx8HcgiHcxTHcgIncSpncDbncSGXcDlXcS03cDO3cSf3cD8P8ShP8DTP8SKv8Dpv8S4f8DGf8SXf8D0/8St/8DeDBAswOEMxLCMwEqMyBmMzHhMyEZMyBVMzHTMyC7MzF/OyAP9mURZnKZZlBVZmNdZkHdZnIzZlC7ZmO3ZkF3ZnL/blAA7mMI7kGI7nRE7hdM7iXC7gYi7jSq7hem7iVu7gbu7jQR7hcZ7iWV7gZV7jTd7hfT7iU77ga77jR37hd/5i4OABBmNIhmF4/sEojM5YjMsE/ItJmJypmJYZmJnZmJN5mJ+FWIT/sCTLsDwrsSprsDbrsSGbsDlbsS07sDO7sSf7sD8HcShHcDTH8V9O5jTO5BzO5yIu5Qqu5jpu5BZu5y7u5QEe5jGe5Bme5yVe5Q3e5j0+5BM+5yu+5Qd+5jf+5P/DH5QhGJrhGJGRGY0x+R9B7wSw\\n  </AppendedData>\\n</VTKFile>\\n\", \"color\": [1, 0.8, 0, 1], \"position\": [0, 0, 0], \"orientation\": [0, 0, 0]}];\n    render(data, parent_element, 0.5);\n});\n}\n\nload_and_render(element);\n",
      "text/plain": [
       "<cadquery.cq.Workplane at 0x7f3b541806b0>"
      ]
     },
     "execution_count": 97,
     "metadata": {},
     "output_type": "execute_result"
    }
   ],
   "source": [
    "# These can be modified rather than hardcoding values for each dimension.\n",
    "length = 80.0  # Length of the block\n",
    "height = 60.0  # Height of the block\n",
    "thickness = 10.0  # Thickness of the block\n",
    "center_hole_dia = 22.0  # Diameter of center hole in block\n",
    "\n",
    "box_cq = cq.Workplane(\"XY\").box(length, height, thickness).faces(\">Z\")\n",
    "box_cq.export(\"./box.stl\")\n",
    "holed_box_cq = box_cq.workplane().hole(center_hole_dia)\n",
    "holed_box_cq.export(\"./holed_box.stl\")"
   ]
  },
  {
   "cell_type": "code",
   "execution_count": 98,
   "id": "df15b65d",
   "metadata": {},
   "outputs": [],
   "source": [
    "holed_box = trimesh.load_mesh(\"./holed_box.stl\")\n",
    "holed_box2 = trimesh.load_mesh(\"./holed_box.stl\")\n",
    "box = trimesh.load_mesh(\"./box.stl\")\n",
    "sphere = trimesh.creation.uv_sphere(radius=1.0)\n",
    "cube = trimesh.creation.box(extents=(1, 1, 1))"
   ]
  },
  {
   "cell_type": "markdown",
   "id": "831baafe",
   "metadata": {},
   "source": [
    "## Evaluate"
   ]
  },
  {
   "cell_type": "code",
   "execution_count": 99,
   "id": "abe67e96",
   "metadata": {},
   "outputs": [],
   "source": [
    "def eval_wrapper(error_value: float = 0, debug: bool = True):\n",
    "    def decorator(function):\n",
    "        def inner_wrapper(*args, **kwargs):\n",
    "            try:\n",
    "                return float(function(*args, **kwargs))\n",
    "            except Exception as e:\n",
    "                if debug:\n",
    "                    raise e\n",
    "                return error_value\n",
    "\n",
    "        return inner_wrapper\n",
    "\n",
    "    return decorator"
   ]
  },
  {
   "cell_type": "markdown",
   "id": "b96f7285",
   "metadata": {},
   "source": [
    "### Intersection Over Union"
   ]
  },
  {
   "cell_type": "code",
   "execution_count": 100,
   "id": "057c78ee",
   "metadata": {},
   "outputs": [],
   "source": [
    "@eval_wrapper()\n",
    "def iou(obj1: trimesh.Trimesh, obj2: trimesh.Trimesh) -> float:\n",
    "    intersection_volume = 0\n",
    "    for gt_mesh_i in obj1.split():\n",
    "        for pred_mesh_i in obj2.split():\n",
    "            intersection = gt_mesh_i.intersection(pred_mesh_i)\n",
    "            volume = intersection.volume if intersection is not None else 0\n",
    "            intersection_volume += volume\n",
    "\n",
    "    gt_volume = sum(m.volume for m in obj1.split())\n",
    "    pred_volume = sum(m.volume for m in obj2.split())\n",
    "    union_volume = gt_volume + pred_volume - intersection_volume\n",
    "    assert union_volume > 0\n",
    "    return intersection_volume / union_volume"
   ]
  },
  {
   "cell_type": "markdown",
   "id": "488c7ac4",
   "metadata": {},
   "source": [
    "### Chamfer Distance"
   ]
  },
  {
   "cell_type": "code",
   "execution_count": 101,
   "id": "b2bb980d",
   "metadata": {},
   "outputs": [],
   "source": [
    "@eval_wrapper(10**9)\n",
    "def chamfer_distance(\n",
    "    obj1: trimesh.Trimesh, obj2: trimesh.Trimesh, num_samples: int = 5000\n",
    "):\n",
    "    points1, *_ = trimesh.sample.sample_surface(obj1, num_samples, seed=420)\n",
    "    points2, *_ = trimesh.sample.sample_surface(obj2, num_samples, seed=420)\n",
    "\n",
    "    gt_distance, _ = KDTree(points1).query(points2, k=1)\n",
    "    pred_distance, _ = KDTree(points2).query(points1, k=1)\n",
    "\n",
    "    return np.mean(np.square(gt_distance)) + np.mean(np.square(pred_distance))\n",
    "\n",
    "    prox_query2 = trimesh.proximity.ProximityQuery(obj1)\n",
    "    prox_query1 = trimesh.proximity.ProximityQuery(obj2)\n",
    "\n",
    "    dist_1_to_2 = prox_query2.signed_distance(points1)\n",
    "    dist_2_to_1 = prox_query1.signed_distance(points2)\n",
    "    chamfer_dist = np.mean(dist_1_to_2**2) + np.mean(dist_2_to_1**2)\n",
    "\n",
    "    return chamfer_dist"
   ]
  },
  {
   "cell_type": "code",
   "execution_count": 102,
   "id": "32828f53",
   "metadata": {},
   "outputs": [],
   "source": [
    "@eval_wrapper(10**9)\n",
    "def chamfer_distance_vertices(\n",
    "    obj1: trimesh.Trimesh, obj2: trimesh.Trimesh, max_points: int = 5000\n",
    "):\n",
    "    points1 = obj1.vertices\n",
    "    points2 = obj2.vertices\n",
    "    if len(points1) > max_points:\n",
    "        np.random.seed(420)\n",
    "        points1 = np.random.choice(points1, size=max_points, replace=False)\n",
    "\n",
    "    if len(points2) > max_points:\n",
    "        np.random.seed(420)\n",
    "        points2 = np.random.choice(points2, size=max_points, replace=False)\n",
    "\n",
    "    gt_distance, _ = KDTree(points1).query(points2, k=1)\n",
    "    pred_distance, _ = KDTree(points2).query(points1, k=1)\n",
    "\n",
    "    return np.mean(np.square(gt_distance)) + np.mean(np.square(pred_distance))\n",
    "\n",
    "    # prox_query2 = trimesh.proximity.ProximityQuery(obj1)\n",
    "    # prox_query1 = trimesh.proximity.ProximityQuery(obj2)\n",
    "\n",
    "    # dist_1_to_2 = prox_query2.signed_distance(points1)\n",
    "    # dist_2_to_1 = prox_query1.signed_distance(points2)\n",
    "    # chamfer_dist = np.mean(dist_1_to_2**2) + np.mean(dist_2_to_1**2)\n",
    "\n",
    "    # return chamfer_dist"
   ]
  },
  {
   "cell_type": "markdown",
   "id": "b838e24a",
   "metadata": {},
   "source": [
    "### Combine"
   ]
  },
  {
   "cell_type": "code",
   "execution_count": 103,
   "id": "0d4a4e4a",
   "metadata": {},
   "outputs": [],
   "source": [
    "metrics_dict: dict[str, Callable[[trimesh.Trimesh, trimesh.Trimesh], float]] = {\n",
    "    \"iou\": iou,\n",
    "    \"cd\": chamfer_distance,\n",
    "    \"cdv\": chamfer_distance_vertices,\n",
    "}\n",
    "\n",
    "\n",
    "def evaluate(\n",
    "    obj1: trimesh.Trimesh,\n",
    "    obj2: trimesh.Trimesh,\n",
    "    metrics_dict: dict[\n",
    "        str, Callable[[trimesh.Trimesh, trimesh.Trimesh], float]\n",
    "    ] = metrics_dict,\n",
    ") -> dict[str, float]:\n",
    "    return {name: metric_fn(obj1, obj2) for name, metric_fn in metrics_dict.items()}"
   ]
  },
  {
   "cell_type": "markdown",
   "id": "1253a795",
   "metadata": {},
   "source": [
    "## Experiments"
   ]
  },
  {
   "cell_type": "code",
   "execution_count": 104,
   "id": "ff16e46f",
   "metadata": {},
   "outputs": [
    {
     "data": {
      "text/plain": [
       "{'iou': 1.0, 'cd': 0.0, 'cdv': 0.0}"
      ]
     },
     "execution_count": 104,
     "metadata": {},
     "output_type": "execute_result"
    }
   ],
   "source": [
    "evaluate(holed_box, holed_box2)"
   ]
  },
  {
   "cell_type": "code",
   "execution_count": 105,
   "id": "d077a91b",
   "metadata": {},
   "outputs": [
    {
     "data": {
      "text/plain": [
       "{'iou': 0.0, 'cd': 47.93233732139948, 'cdv': 1640.1535042437163}"
      ]
     },
     "execution_count": 105,
     "metadata": {},
     "output_type": "execute_result"
    }
   ],
   "source": [
    "evaluate(holed_box, box)"
   ]
  },
  {
   "cell_type": "code",
   "execution_count": 106,
   "id": "e7ee1a8a",
   "metadata": {},
   "outputs": [
    {
     "data": {
      "text/plain": [
       "{'iou': 0.23973133347349573,\n",
       " 'cd': 0.26070321919618245,\n",
       " 'cdv': 0.3090600467025104}"
      ]
     },
     "execution_count": 106,
     "metadata": {},
     "output_type": "execute_result"
    }
   ],
   "source": [
    "evaluate(cube, sphere)"
   ]
  }
 ],
 "metadata": {
  "kernelspec": {
   "display_name": "openevolve",
   "language": "python",
   "name": "python3"
  },
  "language_info": {
   "codemirror_mode": {
    "name": "ipython",
    "version": 3
   },
   "file_extension": ".py",
   "mimetype": "text/x-python",
   "name": "python",
   "nbconvert_exporter": "python",
   "pygments_lexer": "ipython3",
   "version": "3.12.10"
  }
 },
 "nbformat": 4,
 "nbformat_minor": 5
}
